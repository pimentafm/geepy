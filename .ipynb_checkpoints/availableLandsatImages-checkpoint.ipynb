{
 "cells": [
  {
   "cell_type": "code",
   "execution_count": null,
   "metadata": {},
   "outputs": [],
   "source": [
    "import ee\n",
    "import geepy\n",
    "ee.Initialize()"
   ]
  },
  {
   "cell_type": "code",
   "execution_count": null,
   "metadata": {},
   "outputs": [],
   "source": [
    "config = geepy.params.configParams('input.json')\n",
    "\n",
    "ls = ee.FeatureCollection(config.params['lsTiles'])\n",
    "\n",
    "bacias = ee.FeatureCollection(\"users/fernandompimenta/AIBA/watershedsAIBA\")\n",
    "\n",
    "tiles = [geepy.feature.getTiles(ls, tile, 'TILE_T') for tile in config.params['grid']['tiles2process']]\n",
    "\n",
    "l5 = ee.ImageCollection(config.params['imgCollection']['lc5']['id']).select(\n",
    "    config.params[\"imgCollection\"][\"lc5\"][\"bands\"],\n",
    "    config.params[\"imgCollection\"][\"lc5\"][\"bandNames\"])\n",
    "\n",
    "l7 = ee.ImageCollection(config.params['imgCollection']['lc7']['id']).select(\n",
    "    config.params[\"imgCollection\"][\"lc7\"][\"bands\"],\n",
    "    config.params[\"imgCollection\"][\"lc7\"][\"bandNames\"])\n",
    "\n",
    "l8 = ee.ImageCollection(config.params['imgCollection']['lc8']['id']).select(\n",
    "    config.params[\"imgCollection\"][\"lc8\"][\"bands\"],\n",
    "    config.params[\"imgCollection\"][\"lc8\"][\"bandNames\"])"
   ]
  },
  {
   "cell_type": "code",
   "execution_count": null,
   "metadata": {},
   "outputs": [],
   "source": [
    "filtL5 = []\n",
    "filtL7 = []\n",
    "filtL8 = []\n",
    "\n",
    "for year in range(1990, 2017):\n",
    "    y = str(year)\n",
    "    start_d = config.params['years'][y]+config.params['period']['rainy']['start']\n",
    "    end_d = config.params['years'][y]+config.params['period']['rainy']['end']\n",
    "    #print(\"Start-End dry season %s %s\" %(start_d, end_d))\n",
    "    \n",
    "    filtered = l5.filterMetadata('CLOUD_COVER', 'less_than', 25).filterDate(start_d, end_d)\n",
    "            \n",
    "    filt = filtered.median()\n",
    "    clip = filt.clip(bacias)\n",
    "    \n",
    "    filtL5.append(clip)"
   ]
  },
  {
   "cell_type": "code",
   "execution_count": null,
   "metadata": {},
   "outputs": [],
   "source": [
    "for year in range(1990, 2017):\n",
    "    y = str(year)\n",
    "    start_d = config.params['years'][y]+config.params['period']['rainy']['start']\n",
    "    end_d = config.params['years'][y]+config.params['period']['rainy']['end']\n",
    "    #print(\"Start-End dry season %s %s\" %(start_d, end_d))\n",
    "    \n",
    "    filtered = l7.filterMetadata('CLOUD_COVER', 'less_than', 25).filterDate(start_d, end_d)\n",
    "            \n",
    "    filt = filtered.median()\n",
    "    clip = filt.clip(bacias)\n",
    "    \n",
    "    filtL7.append(clip)"
   ]
  },
  {
   "cell_type": "code",
   "execution_count": null,
   "metadata": {},
   "outputs": [],
   "source": [
    "for year in range(1990, 2017):\n",
    "    y = str(year)\n",
    "    start_d = config.params['years'][y]+config.params['period']['rainy']['start']\n",
    "    end_d = config.params['years'][y]+config.params['period']['rainy']['end']\n",
    "    #print(\"Start-End dry season %s %s\" %(start_d, end_d))\n",
    "    \n",
    "    filtered = l8.filterMetadata('CLOUD_COVER', 'less_than', 25).filterDate(start_d, end_d)\n",
    "                       \n",
    "    filt = filtered.median()\n",
    "    clip = filt.clip(bacias)\n",
    "    \n",
    "    filtL8.append(clip)"
   ]
  },
  {
   "cell_type": "code",
   "execution_count": null,
   "metadata": {},
   "outputs": [],
   "source": [
    "mapl5 = 0\n",
    "mapl5 = geepy.maps.geeMap(bacias, zoom=8)\n",
    "mapl7 = geepy.maps.geeMap(bacias, zoom=8)\n",
    "mapl8 = geepy.maps.geeMap(bacias, zoom=8)\n",
    "\n",
    "l5_viz_params = {'min':0,'max':0.3,'bands':'red,green,blue','format':'png'}"
   ]
  },
  {
   "cell_type": "code",
   "execution_count": null,
   "metadata": {},
   "outputs": [],
   "source": [
    "for i in range(27):\n",
    "    mapl5.addLayer(filtL5[i], viz_params = l5_viz_params, name=str(i+1990))"
   ]
  },
  {
   "cell_type": "code",
   "execution_count": null,
   "metadata": {},
   "outputs": [],
   "source": [
    "for i in range(27):\n",
    "    mapl7.addLayer(filtL7[i], viz_params = l5_viz_params, name=str(i+1990))"
   ]
  },
  {
   "cell_type": "code",
   "execution_count": null,
   "metadata": {},
   "outputs": [],
   "source": [
    "for i in range(27):\n",
    "    mapl8.addLayer(filtL8[i], viz_params = l5_viz_params, name=str(i+1990))"
   ]
  },
  {
   "cell_type": "code",
   "execution_count": null,
   "metadata": {},
   "outputs": [],
   "source": [
    "mapl5.addControls()"
   ]
  },
  {
   "cell_type": "code",
   "execution_count": null,
   "metadata": {},
   "outputs": [],
   "source": [
    "mapl7.addControls()"
   ]
  },
  {
   "cell_type": "code",
   "execution_count": null,
   "metadata": {},
   "outputs": [],
   "source": [
    "mapl8.addControls()"
   ]
  },
  {
   "cell_type": "code",
   "execution_count": null,
   "metadata": {},
   "outputs": [],
   "source": []
  }
 ],
 "metadata": {
  "kernelspec": {
   "display_name": "Python 3",
   "language": "python",
   "name": "python3"
  },
  "language_info": {
   "codemirror_mode": {
    "name": "ipython",
    "version": 3
   },
   "file_extension": ".py",
   "mimetype": "text/x-python",
   "name": "python",
   "nbconvert_exporter": "python",
   "pygments_lexer": "ipython3",
   "version": "3.6.5"
  }
 },
 "nbformat": 4,
 "nbformat_minor": 2
}
