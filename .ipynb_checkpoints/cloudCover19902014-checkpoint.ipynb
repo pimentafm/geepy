{
 "cells": [
  {
   "cell_type": "code",
   "execution_count": 1,
   "metadata": {},
   "outputs": [],
   "source": [
    "import ee\n",
    "import geepy"
   ]
  },
  {
   "cell_type": "code",
   "execution_count": 2,
   "metadata": {},
   "outputs": [],
   "source": [
    "ee.Initialize()"
   ]
  },
  {
   "cell_type": "code",
   "execution_count": 3,
   "metadata": {},
   "outputs": [
    {
     "ename": "KeyError",
     "evalue": "'fusionTable'",
     "output_type": "error",
     "traceback": [
      "\u001b[0;31m---------------------------------------------------------------------------\u001b[0m",
      "\u001b[0;31mKeyError\u001b[0m                                  Traceback (most recent call last)",
      "\u001b[0;32m<ipython-input-3-11a370e46402>\u001b[0m in \u001b[0;36m<module>\u001b[0;34m()\u001b[0m\n\u001b[1;32m      1\u001b[0m \u001b[0mconfig\u001b[0m \u001b[0;34m=\u001b[0m \u001b[0mgeepy\u001b[0m\u001b[0;34m.\u001b[0m\u001b[0mparams\u001b[0m\u001b[0;34m.\u001b[0m\u001b[0mconfigParams\u001b[0m\u001b[0;34m(\u001b[0m\u001b[0;34m'input.json'\u001b[0m\u001b[0;34m)\u001b[0m\u001b[0;34m\u001b[0m\u001b[0m\n\u001b[1;32m      2\u001b[0m \u001b[0;34m\u001b[0m\u001b[0m\n\u001b[0;32m----> 3\u001b[0;31m \u001b[0mls\u001b[0m \u001b[0;34m=\u001b[0m \u001b[0mee\u001b[0m\u001b[0;34m.\u001b[0m\u001b[0mFeatureCollection\u001b[0m\u001b[0;34m(\u001b[0m\u001b[0mconfig\u001b[0m\u001b[0;34m.\u001b[0m\u001b[0mparams\u001b[0m\u001b[0;34m[\u001b[0m\u001b[0;34m'fusionTable'\u001b[0m\u001b[0;34m]\u001b[0m\u001b[0;34m,\u001b[0m\u001b[0;34m'geometry'\u001b[0m\u001b[0;34m)\u001b[0m\u001b[0;34m\u001b[0m\u001b[0m\n\u001b[0m\u001b[1;32m      4\u001b[0m \u001b[0mtiles\u001b[0m \u001b[0;34m=\u001b[0m \u001b[0;34m[\u001b[0m\u001b[0mgeepy\u001b[0m\u001b[0;34m.\u001b[0m\u001b[0mfeature\u001b[0m\u001b[0;34m.\u001b[0m\u001b[0mgetTiles\u001b[0m\u001b[0;34m(\u001b[0m\u001b[0mls\u001b[0m\u001b[0;34m,\u001b[0m \u001b[0mtile\u001b[0m\u001b[0;34m,\u001b[0m \u001b[0;34m'TILE_T'\u001b[0m\u001b[0;34m)\u001b[0m \u001b[0;32mfor\u001b[0m \u001b[0mtile\u001b[0m \u001b[0;32min\u001b[0m \u001b[0mconfig\u001b[0m\u001b[0;34m.\u001b[0m\u001b[0mparams\u001b[0m\u001b[0;34m[\u001b[0m\u001b[0;34m'grid'\u001b[0m\u001b[0;34m]\u001b[0m\u001b[0;34m[\u001b[0m\u001b[0;34m'tiles2process'\u001b[0m\u001b[0;34m]\u001b[0m\u001b[0;34m]\u001b[0m\u001b[0;34m\u001b[0m\u001b[0m\n\u001b[1;32m      5\u001b[0m \u001b[0;34m\u001b[0m\u001b[0m\n",
      "\u001b[0;31mKeyError\u001b[0m: 'fusionTable'"
     ]
    }
   ],
   "source": [
    "config = geepy.params.configParams('input.json')\n",
    "\n",
    "ls = ee.FeatureCollection(config.params['fusionTable'],'geometry')\n",
    "tiles = [geepy.feature.getTiles(ls, tile, 'TILE_T') for tile in config.params['grid']['tiles2process']]\n",
    "\n",
    "l5 = ee.ImageCollection(config.params['imgCollection']['lc5'])\n",
    "l7 = ee.ImageCollection(config.params['imgCollection']['lc7'])\n",
    "l8 = ee.ImageCollection(config.params['imgCollection']['lc8'])\n",
    "\n",
    "tileNames = [tiles[i][0] for i in range(len(tiles))]\n",
    "tileCoords = [tiles[i][1].geometry().getInfo()['coordinates'] for i in range(len(tiles))]\n",
    "\n",
    "# Imagens válidas para período seco \"start\": \"-05-01\", \"end\": \"-09-01\"\n",
    "# l5: 1990-2001, 2003-2010\n",
    "# l7: 2002, 2011, 2012 \n",
    "# l8: 2013 - atual"
   ]
  },
  {
   "cell_type": "code",
   "execution_count": 4,
   "metadata": {},
   "outputs": [],
   "source": [
    "# Save to drive\n",
    "def send2drive(img, coords, desc, driveFolder):\n",
    "    task2Drive = ee.batch.Export.image.toDrive(\n",
    "        image = img,\n",
    "        folder = driveFolder,\n",
    "        description = desc,\n",
    "        maxPixels = 1e10,\n",
    "        region = coords,\n",
    "        scale = 30,\n",
    "    )\n",
    "    return task2Drive"
   ]
  },
  {
   "cell_type": "code",
   "execution_count": 5,
   "metadata": {},
   "outputs": [
    {
     "name": "stdout",
     "output_type": "stream",
     "text": [
      "Config task for 1990\n",
      "Config task for 1991\n",
      "Config task for 1992\n",
      "Config task for 1993\n",
      "Config task for 1994\n",
      "Config task for 1995\n",
      "Config task for 1996\n",
      "Config task for 1997\n",
      "Config task for 1998\n",
      "Config task for 1999\n",
      "Config task for 2000\n",
      "Config task for 2001\n",
      "Config task for 2002\n",
      "Config task for 2003\n",
      "Config task for 2004\n",
      "Config task for 2005\n",
      "Config task for 2006\n",
      "Config task for 2007\n",
      "Config task for 2008\n",
      "Config task for 2009\n",
      "Config task for 2010\n",
      "Config task for 2011\n",
      "Config task for 2012\n",
      "Config task for 2013\n",
      "Config task for 2014\n",
      "Config task for 2015\n",
      "Config task for 2016\n"
     ]
    }
   ],
   "source": [
    "tasks = {}\n",
    "taskStatus = {}\n",
    "\n",
    "for year in range(1990, 2017):\n",
    "    y = str(year)\n",
    "    start_d = config.params['years'][y]+config.params['period']['dry']['start']\n",
    "    end_d = config.params['years'][y]+config.params['period']['dry']['end']\n",
    "    #print(\"Start-End dry season %s %s\" %(start_d, end_d))\n",
    "    \n",
    "    if(year < 2002):\n",
    "        filtered = l5.filterMetadata('CLOUD_COVER', 'less_than', 20).filterDate(start_d, end_d)\n",
    "    elif(year in (2002,2011,2012)):\n",
    "        filtered = l7.filterMetadata('CLOUD_COVER', 'less_than', 20).filterDate(start_d, end_d)\n",
    "    elif(year > 2002 and year < 2011):\n",
    "        filtered = l5.filterMetadata('CLOUD_COVER', 'less_than', 20).filterDate(start_d, end_d)\n",
    "    else:\n",
    "        filtered = l8.filterMetadata('CLOUD_COVER', 'less_than', 20).filterDate(start_d, end_d)\n",
    "\n",
    "    filt = filtered.median()\n",
    "    \n",
    "    lsClip = [geepy.image.clipImageCollection(filt, tiles[i][1]) for i in range(len(tiles))]\n",
    "    \n",
    "    #print('Cloud Cover and Shadow classification for year %s' %(y))\n",
    "    cloudMask = [geepy.cloud.getFmask(lsClip[a]) for a in range(len(lsClip))]\n",
    "    \n",
    "    print('Config task for %s' %(y))\n",
    "    tasks[str(y)] = [send2drive(cloudMask[i], tileCoords[i], 'cloudMask'+str(year)+'dry'+tileNames[i], 'cloudMask'+str(year)+'dry') for i in range(len(tiles))]\n",
    "    \n",
    "    taskStatus[str(y)] = [tasks[str(y)][i].status()['state'] for i in range(len(tiles))]"
   ]
  },
  {
   "cell_type": "code",
   "execution_count": 6,
   "metadata": {},
   "outputs": [
    {
     "name": "stdout",
     "output_type": "stream",
     "text": [
      "Exporting to drive: 2008\n",
      "Exporting data for year 2008 is completed.\n",
      "Waiting 1 minute.\n",
      "Exporting to drive: 2007\n",
      "Exporting data for year 2007 is completed.\n",
      "Waiting 1 minute.\n",
      "Exporting to drive: 1995\n",
      "Exporting data for year 1995 is completed.\n",
      "Waiting 1 minute.\n",
      "Exporting to drive: 2006\n",
      "Exporting data for year 2006 is completed.\n",
      "Waiting 1 minute.\n",
      "Exporting to drive: 1992\n",
      "Exporting data for year 1992 is completed.\n",
      "Waiting 1 minute.\n",
      "Exporting to drive: 2015\n",
      "Exporting data for year 2015 is completed.\n",
      "Waiting 1 minute.\n",
      "Exporting to drive: 2004\n",
      "Exporting data for year 2004 is completed.\n",
      "Waiting 1 minute.\n",
      "Exporting to drive: 1993\n",
      "Exporting data for year 1993 is completed.\n",
      "Waiting 1 minute.\n",
      "Exporting to drive: 1999\n",
      "Exporting data for year 1999 is completed.\n",
      "Waiting 1 minute.\n",
      "Exporting to drive: 1997\n",
      "Exporting data for year 1997 is completed.\n",
      "Waiting 1 minute.\n",
      "Exporting to drive: 2003\n",
      "Exporting data for year 2003 is completed.\n",
      "Waiting 1 minute.\n",
      "Exporting to drive: 2012\n",
      "Exporting data for year 2012 is completed.\n",
      "Waiting 1 minute.\n",
      "Exporting to drive: 1998\n",
      "Exporting data for year 1998 is completed.\n",
      "Waiting 1 minute.\n",
      "Exporting to drive: 1991\n",
      "Exporting data for year 1991 is completed.\n",
      "Waiting 1 minute.\n",
      "Exporting to drive: 1990\n",
      "Exporting data for year 1990 is completed.\n",
      "Waiting 1 minute.\n",
      "Exporting to drive: 2014\n",
      "Exporting data for year 2014 is completed.\n",
      "Waiting 1 minute.\n",
      "Exporting to drive: 2011\n",
      "Exporting data for year 2011 is completed.\n",
      "Waiting 1 minute.\n",
      "Exporting to drive: 1994\n",
      "Exporting data for year 1994 is completed.\n",
      "Waiting 1 minute.\n",
      "Exporting to drive: 2009\n",
      "Exporting data for year 2009 is completed.\n",
      "Waiting 1 minute.\n",
      "Exporting to drive: 2013\n",
      "Exporting data for year 2013 is completed.\n",
      "Waiting 1 minute.\n",
      "Exporting to drive: 1996\n",
      "Exporting data for year 1996 is completed.\n",
      "Waiting 1 minute.\n",
      "Exporting to drive: 2001\n",
      "Exporting data for year 2001 is completed.\n",
      "Waiting 1 minute.\n",
      "Exporting to drive: 2000\n",
      "Exporting data for year 2000 is completed.\n",
      "Waiting 1 minute.\n",
      "Exporting to drive: 2010\n",
      "Exporting data for year 2010 is completed.\n",
      "Waiting 1 minute.\n",
      "Exporting to drive: 2016\n",
      "Exporting data for year 2016 is completed.\n",
      "Waiting 1 minute.\n",
      "Exporting to drive: 2005\n",
      "Exporting data for year 2005 is completed.\n",
      "Waiting 1 minute.\n",
      "Exporting to drive: 2002\n",
      "Exporting data for year 2002 is completed.\n",
      "Waiting 1 minute.\n"
     ]
    }
   ],
   "source": [
    "import time\n",
    "\n",
    "for i in tasks.keys():\n",
    "    print('Exporting to drive: %s' %(i))\n",
    "    [tasks[i][j].start() for j in range(len(tasks[i]))]\n",
    "\n",
    "    taskPoolStatus = False\n",
    "    \n",
    "    while taskPoolStatus == False:\n",
    "        taskStatus[i] = [tasks[i][k].status()['state'] for k in range(len(tasks[i]))]\n",
    "        taskPoolStatus = all(status == 'COMPLETED' for status in taskStatus[i])\n",
    "            \n",
    "        if taskPoolStatus:\n",
    "            print('Exporting data for year %s is completed.' %(i))\n",
    "            print('Waiting 1 minute.')\n",
    "            time.sleep(60)\n",
    "            \n",
    "            \n",
    "#### implementar um timer para verificar quanto tempo demorou para exportar todas as imagens"
   ]
  },
  {
   "cell_type": "code",
   "execution_count": null,
   "metadata": {
    "collapsed": true
   },
   "outputs": [],
   "source": []
  }
 ],
 "metadata": {
  "kernelspec": {
   "display_name": "Python 3",
   "language": "python",
   "name": "python3"
  },
  "language_info": {
   "codemirror_mode": {
    "name": "ipython",
    "version": 3
   },
   "file_extension": ".py",
   "mimetype": "text/x-python",
   "name": "python",
   "nbconvert_exporter": "python",
   "pygments_lexer": "ipython3",
   "version": "3.6.5"
  }
 },
 "nbformat": 4,
 "nbformat_minor": 2
}
