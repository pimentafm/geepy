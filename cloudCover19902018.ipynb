{
 "cells": [
  {
   "cell_type": "code",
   "execution_count": null,
   "metadata": {},
   "outputs": [],
   "source": [
    "import ee\n",
    "import geepy"
   ]
  },
  {
   "cell_type": "code",
   "execution_count": null,
   "metadata": {},
   "outputs": [],
   "source": [
    "ee.Initialize()"
   ]
  },
  {
   "cell_type": "code",
   "execution_count": null,
   "metadata": {},
   "outputs": [],
   "source": [
    "config = geepy.params.configParams('input.json')\n",
    "\n",
    "ls = ee.FeatureCollection(config.params['lsTiles'])\n",
    "tiles = [geepy.feature.getTiles(ls, tile, 'TILE_T') for tile in config.params['grid']['tiles2process']]\n",
    "\n",
    "l5 = ee.ImageCollection(config.params['imgCollection']['lc5']['id'])\n",
    "l7 = ee.ImageCollection(config.params['imgCollection']['lc7']['id'])\n",
    "l8 = ee.ImageCollection(config.params['imgCollection']['lc8']['id'])\n",
    "\n",
    "tileNames = [tiles[i][0] for i in range(len(tiles))]\n",
    "tileCoords = [tiles[i][1].geometry().getInfo()['coordinates'] for i in range(len(tiles))]"
   ]
  },
  {
   "cell_type": "code",
   "execution_count": null,
   "metadata": {},
   "outputs": [],
   "source": [
    "# Save to drive\n",
    "def send2drive(img, coords, desc, driveFolder):\n",
    "    task2Drive = ee.batch.Export.image.toDrive(\n",
    "        image = img,\n",
    "        folder = driveFolder,\n",
    "        description = desc,\n",
    "        maxPixels = 1e10,\n",
    "        region = coords,\n",
    "        scale = 30,\n",
    "    )\n",
    "    return task2Drive"
   ]
  },
  {
   "cell_type": "code",
   "execution_count": null,
   "metadata": {},
   "outputs": [],
   "source": [
    "tasks = {}\n",
    "taskStatus = {}\n",
    "\n",
    "for year in range(1990, 2017):\n",
    "    y = str(year)\n",
    "    start_d = config.params['years'][y]+config.params['period']['dry']['start']\n",
    "    end_d = config.params['years'][y]+config.params['period']['dry']['end']\n",
    "    #print(\"Start-End dry season %s %s\" %(start_d, end_d))\n",
    "    \n",
    "    if(year < 2002):\n",
    "        filtered = l5.filterMetadata('CLOUD_COVER', 'less_than', 20).filterDate(start_d, end_d)\n",
    "    elif(year in (2002,2011,2012)):\n",
    "        filtered = l7.filterMetadata('CLOUD_COVER', 'less_than', 20).filterDate(start_d, end_d)\n",
    "    elif(year > 2002 and year < 2011):\n",
    "        filtered = l5.filterMetadata('CLOUD_COVER', 'less_than', 20).filterDate(start_d, end_d)\n",
    "    else:\n",
    "        filtered = l8.filterMetadata('CLOUD_COVER', 'less_than', 20).filterDate(start_d, end_d)\n",
    "\n",
    "    filt = filtered.median()\n",
    "    \n",
    "    lsClip = [geepy.image.clipImageCollection(filt, tiles[i][1]) for i in range(len(tiles))]\n",
    "    \n",
    "    #print('Cloud Cover and Shadow classification for year %s' %(y))\n",
    "    cloudMask = [geepy.cloud.getFmask(lsClip[a]) for a in range(len(lsClip))]\n",
    "    \n",
    "    print('Config task for %s' %(y))\n",
    "    tasks[str(y)] = [send2drive(cloudMask[i], tileCoords[i], 'cloudMask'+str(year)+'dry'+tileNames[i], 'cloudMask'+str(year)+'dry') for i in range(len(tiles))]\n",
    "    \n",
    "    taskStatus[str(y)] = [tasks[str(y)][i].status()['state'] for i in range(len(tiles))]"
   ]
  },
  {
   "cell_type": "code",
   "execution_count": null,
   "metadata": {},
   "outputs": [],
   "source": [
    "import time\n",
    "\n",
    "for i in tasks.keys():\n",
    "    print('Exporting to drive: %s' %(i))\n",
    "    [tasks[i][j].start() for j in range(len(tasks[i]))]\n",
    "\n",
    "    taskPoolStatus = False\n",
    "    \n",
    "    while taskPoolStatus == False:\n",
    "        taskStatus[i] = [tasks[i][k].status()['state'] for k in range(len(tasks[i]))]\n",
    "        taskPoolStatus = all(status == 'COMPLETED' for status in taskStatus[i])\n",
    "            \n",
    "        if taskPoolStatus:\n",
    "            print('Exporting data for year %s is completed.' %(i))\n",
    "            print('Waiting 1 minute.')\n",
    "            time.sleep(60)\n",
    "            \n",
    "            \n",
    "#### implementar um timer para verificar quanto tempo demorou para exportar todas as imagens"
   ]
  },
  {
   "cell_type": "code",
   "execution_count": null,
   "metadata": {},
   "outputs": [],
   "source": []
  }
 ],
 "metadata": {
  "kernelspec": {
   "display_name": "Python 3",
   "language": "python",
   "name": "python3"
  },
  "language_info": {
   "codemirror_mode": {
    "name": "ipython",
    "version": 3
   },
   "file_extension": ".py",
   "mimetype": "text/x-python",
   "name": "python",
   "nbconvert_exporter": "python",
   "pygments_lexer": "ipython3",
   "version": "3.6.8"
  }
 },
 "nbformat": 4,
 "nbformat_minor": 2
}
