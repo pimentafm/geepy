{
 "cells": [
  {
   "cell_type": "code",
   "execution_count": null,
   "metadata": {},
   "outputs": [],
   "source": [
    "import ee\n",
    "import geepy\n",
    "\n",
    "import branca.colormap as cm\n",
    "import random\n",
    "\n",
    "ee.Initialize()"
   ]
  },
  {
   "cell_type": "code",
   "execution_count": null,
   "metadata": {},
   "outputs": [],
   "source": [
    "config = geepy.params.configParams('input.json')\n",
    "\n",
    "ls = ee.FeatureCollection(config.params['fusionTable'],'geometry')\n",
    "tiles = [geepy.feature.getTiles(ls, tile, 'TILE_T') for tile in config.params['grid']['tiles2process']]\n",
    "\n",
    "l5 = ee.ImageCollection(config.params['imgCollection']['lc5']['id']).select(\n",
    "    config.params[\"imgCollection\"][\"lc5\"][\"bands\"],\n",
    "    config.params[\"imgCollection\"][\"lc5\"][\"bandNames\"])\n",
    "\n",
    "l7 = ee.ImageCollection(config.params['imgCollection']['lc7']['id']).select(\n",
    "    config.params[\"imgCollection\"][\"lc7\"][\"bands\"],\n",
    "    config.params[\"imgCollection\"][\"lc7\"][\"bandNames\"])\n",
    "\n",
    "l8 = ee.ImageCollection(config.params['imgCollection']['lc8']['id']).select(\n",
    "    config.params[\"imgCollection\"][\"lc8\"][\"bands\"],\n",
    "    config.params[\"imgCollection\"][\"lc8\"][\"bandNames\"])"
   ]
  },
  {
   "cell_type": "code",
   "execution_count": null,
   "metadata": {},
   "outputs": [],
   "source": [
    "tileNames = [tiles[i][0] for i in range(len(tiles))]\n",
    "tileCoords = [tiles[i][1].geometry().getInfo()['coordinates'] for i in range(len(tiles))]"
   ]
  },
  {
   "cell_type": "code",
   "execution_count": null,
   "metadata": {},
   "outputs": [],
   "source": [
    "for year in range(2015, 2016):\n",
    "    y = str(year)\n",
    "    start_d = config.params['years'][y]+config.params['period']['dry']['start']\n",
    "    end_d = config.params['years'][y]+config.params['period']['dry']['end']\n",
    "    #print(\"Start-End dry season %s %s\" %(start_d, end_d))\n",
    "    \n",
    "    if(year < 2002):\n",
    "        filtered = l5.filterMetadata('CLOUD_COVER', 'less_than', 20).filterDate(start_d, end_d)\n",
    "    elif(year in (2002,2011,2012)):\n",
    "        filtered = l7.filterMetadata('CLOUD_COVER', 'less_than', 20).filterDate(start_d, end_d)\n",
    "    elif(year > 2002 and year < 2011):\n",
    "        filtered = l5.filterMetadata('CLOUD_COVER', 'less_than', 20).filterDate(start_d, end_d)\n",
    "    else:\n",
    "        filtered = l8.filterMetadata('CLOUD_COVER', 'less_than', 20).filterDate(start_d, end_d)\n",
    "\n",
    "    filt = filtered.median()\n",
    "    \n",
    "    #Landsat Tiles\n",
    "    lsClip = [geepy.image.clipImageCollection(filt, tiles[i][1]) for i in range(len(tiles))]"
   ]
  },
  {
   "cell_type": "code",
   "execution_count": null,
   "metadata": {},
   "outputs": [],
   "source": [
    "for i in range(len(lsClip)):\n",
    "    lsClip[i] = geepy.image.calcNDVI(lsClip[i])\n",
    "    lsClip[i] = geepy.image.calcEVI(lsClip[i])\n",
    "    lsClip[i] = geepy.image.calcSAVI(lsClip[i])\n",
    "    lsClip[i] = geepy.image.calcNDWI(lsClip[i])\n",
    "    lsClip[i] = geepy.image.waterMask(lsClip[i])\n",
    "    lsClip[i] = geepy.image.calcFractions(lsClip[i])\n",
    "    lsClip[i] = geepy.image.calcNDFI(lsClip[i])\n",
    "    lsClip[i] = geepy.image.calcNDFI2(lsClip[i])\n",
    "    lsClip[i] = geepy.image.calcNDFI3(lsClip[i])\n",
    "    lsClip[i] = geepy.image.calcFCI(lsClip[i])\n",
    "    lsClip[i] = geepy.image.calcGVNPV(lsClip[i])\n",
    "    lsClip[i] = geepy.image.calcNPVSOIL(lsClip[i])"
   ]
  },
  {
   "cell_type": "code",
   "execution_count": null,
   "metadata": {},
   "outputs": [],
   "source": [
    "# dados do mapbiomas\n",
    "# Coleção 2.3\n",
    "mapBiomas = ee.Image(\"projects/mapbiomas-workspace/public/collection2_3/mapbiomas_collection23_integration_v1\")"
   ]
  },
  {
   "cell_type": "code",
   "execution_count": null,
   "metadata": {},
   "outputs": [],
   "source": [
    "for i in range(2000, 2016):\n",
    "    dt = 'classification_'+ str(i)\n",
    "    \n",
    "    mbClip = [geepy.image.clipImageCollection(mapBiomas.select(dt), tiles[i][1]) for i in range(len(tiles))]"
   ]
  },
  {
   "cell_type": "code",
   "execution_count": null,
   "metadata": {},
   "outputs": [],
   "source": [
    "for i in range(len(mbClip)):\n",
    "    mbClip[i] = mbClip[i].addBands(ee.Image.pixelLonLat())"
   ]
  },
  {
   "cell_type": "code",
   "execution_count": null,
   "metadata": {},
   "outputs": [],
   "source": [
    "for i in range(len(mbClip)):\n",
    "    mbClip[i] = mbClip[i].rename([\"class\", \"longitude\", \"latitude\"]).cast({\"class\": \"int8\"})"
   ]
  },
  {
   "cell_type": "code",
   "execution_count": null,
   "metadata": {},
   "outputs": [],
   "source": [
    "#lsClip[tileIndex].bandNames().getInfo()\n",
    "tileIndex = 11\n",
    "lsClip[tileIndex].bandNames().getInfo()"
   ]
  },
  {
   "cell_type": "code",
   "execution_count": null,
   "metadata": {},
   "outputs": [],
   "source": [
    "mapa_c = geepy.maps.geeMap(tiles[tileIndex][1],zoom=10)\n",
    "\n",
    "# mapa_c.addLayer(lsClip[tileIndex].select('blue'), name='blue')\n",
    "# mapa_c.addLayer(lsClip[tileIndex].select('green'), name='green')\n",
    "# mapa_c.addLayer(lsClip[tileIndex].select('red'), name='red')\n",
    "# mapa_c.addLayer(lsClip[tileIndex].select('nir'), name='nir')\n",
    "# mapa_c.addLayer(lsClip[tileIndex].select('swir1'), name='swir1')\n",
    "# mapa_c.addLayer(lsClip[tileIndex].select('swir2'), name='swir2')\n",
    "# mapa_c.addLayer(lsClip[tileIndex].select('thermal'), name='thermal')\n",
    "# mapa_c.addLayer(lsClip[tileIndex].select('fmask'), name='fmask')\n",
    "# mapa_c.addLayer(lsClip[tileIndex].select('ndvi'), name='ndvi')\n",
    "# mapa_c.addLayer(lsClip[tileIndex].select('evi'), name='evi')\n",
    "# mapa_c.addLayer(lsClip[tileIndex].select('savi'), name='savi')\n",
    "# mapa_c.addLayer(lsClip[tileIndex].select('ndwi'), name='ndwi')\n",
    "# mapa_c.addLayer(lsClip[tileIndex].select('wmask'), name='wmask')\n",
    "# mapa_c.addLayer(lsClip[tileIndex].select('gv'), name='gv')\n",
    "# mapa_c.addLayer(lsClip[tileIndex].select('npv'), name='npv')\n",
    "# mapa_c.addLayer(lsClip[tileIndex].select('soil'), name='soil')\n",
    "# mapa_c.addLayer(lsClip[tileIndex].select('cloud'), name='cloud')\n",
    "# mapa_c.addLayer(lsClip[tileIndex].select('gvs'), name='gvs')\n",
    "# mapa_c.addLayer(lsClip[tileIndex].select('shade'), name='shade')\n",
    "# mapa_c.addLayer(lsClip[tileIndex].select('ndfi'), name='ndfi')\n",
    "# mapa_c.addLayer(lsClip[tileIndex].select('fci'), name='fci')\n",
    "\n",
    "mapa_c.addLayer(lsClip[tileIndex].select('ndfi2'), name='ndfi2')\n",
    "mapa_c.addLayer(lsClip[tileIndex].select('ndfi3'), name='ndfi3')\n",
    "mapa_c.addLayer(lsClip[tileIndex].select('gvnpv'), name='gvnpv')\n",
    "mapa_c.addLayer(lsClip[tileIndex].select('npvsoil'), name='npvsoil')\n",
    "\n",
    "mapa_c.addControls()"
   ]
  },
  {
   "cell_type": "code",
   "execution_count": null,
   "metadata": {},
   "outputs": [],
   "source": [
    "                            #  '006400,00ff00,e974ed,b2f734,ff0000,0000ff'\n",
    "colormap = cm.LinearColormap(['#006400','#00ff00','#e974ed','#b2f734','#ff0000','#0000ff'],\n",
    "    vmin=1,\n",
    "    vmax=6\n",
    ").to_step(6)\n",
    "\n",
    "\n",
    "colormapbiomas = cm.LinearColormap(['#d5d5e5','#129912','#1f4423','#006400','#00ff00','#687537',\\\n",
    "                    '#76a5af','#29eee4','#77a605','#935132','#ff9966','#45c2a5', \\\n",
    "                    '#b8af4f','#f1c232','#ffffb2','#ffd966','#f6b26b','#a0d0de', \\\n",
    "                    '#e974ed','#d5a6bd','#c27ba0','#FBF3C7','#ea9999','#dd7e6b', \\\n",
    "                    '#b7b7b7','#ff99ff','#0000ff','#d5d5e5','#ce3d3d',],\n",
    "    vmin=0,\n",
    "    vmax=28\n",
    ").to_step(29)\n",
    "\n",
    "colormapbiomas"
   ]
  },
  {
   "cell_type": "code",
   "execution_count": null,
   "metadata": {},
   "outputs": [],
   "source": [
    "colormap"
   ]
  },
  {
   "cell_type": "code",
   "execution_count": null,
   "metadata": {},
   "outputs": [],
   "source": [
    "task = geepy.image.send2drive(remaped, tileCoords[tileIndex], 'class_erroUrbano', 'driveDir')"
   ]
  },
  {
   "cell_type": "code",
   "execution_count": null,
   "metadata": {},
   "outputs": [],
   "source": [
    "task.start()"
   ]
  },
  {
   "cell_type": "code",
   "execution_count": null,
   "metadata": {},
   "outputs": [],
   "source": [
    "task = geepy.image.send2drive(classified_rf, tileCoords[tileIndex], 'class_new_27', 'driveDir')"
   ]
  },
  {
   "cell_type": "code",
   "execution_count": null,
   "metadata": {},
   "outputs": [],
   "source": [
    "task.start()"
   ]
  }
 ],
 "metadata": {
  "kernelspec": {
   "display_name": "Python 3",
   "language": "python",
   "name": "python3"
  },
  "language_info": {
   "codemirror_mode": {
    "name": "ipython",
    "version": 3
   },
   "file_extension": ".py",
   "mimetype": "text/x-python",
   "name": "python",
   "nbconvert_exporter": "python",
   "pygments_lexer": "ipython3",
   "version": "3.7.2"
  }
 },
 "nbformat": 4,
 "nbformat_minor": 2
}
