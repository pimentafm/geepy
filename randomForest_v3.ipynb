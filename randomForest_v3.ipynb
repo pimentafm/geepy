{
 "cells": [
  {
   "cell_type": "code",
   "execution_count": 1,
   "metadata": {},
   "outputs": [],
   "source": [
    "import ee\n",
    "import geepy\n",
    "import math\n",
    "\n",
    "import branca.colormap as cm\n",
    "import random\n",
    "\n",
    "ee.Initialize()"
   ]
  },
  {
   "cell_type": "code",
   "execution_count": 2,
   "metadata": {},
   "outputs": [
    {
     "ename": "KeyError",
     "evalue": "'mapBiomas'",
     "output_type": "error",
     "traceback": [
      "\u001b[0;31m---------------------------------------------------------------------------\u001b[0m",
      "\u001b[0;31mKeyError\u001b[0m                                  Traceback (most recent call last)",
      "\u001b[0;32m<ipython-input-2-92bf13ee8a43>\u001b[0m in \u001b[0;36m<module>\u001b[0;34m()\u001b[0m\n\u001b[1;32m     17\u001b[0m \u001b[0;34m\u001b[0m\u001b[0m\n\u001b[1;32m     18\u001b[0m \u001b[0;31m# MapBiomas Coleção 2.3\u001b[0m\u001b[0;34m\u001b[0m\u001b[0;34m\u001b[0m\u001b[0m\n\u001b[0;32m---> 19\u001b[0;31m \u001b[0mmapBiomas\u001b[0m \u001b[0;34m=\u001b[0m \u001b[0mee\u001b[0m\u001b[0;34m.\u001b[0m\u001b[0mImage\u001b[0m\u001b[0;34m(\u001b[0m\u001b[0mconfig\u001b[0m\u001b[0;34m.\u001b[0m\u001b[0mparams\u001b[0m\u001b[0;34m[\u001b[0m\u001b[0;34m'mapBiomas'\u001b[0m\u001b[0;34m]\u001b[0m\u001b[0;34m)\u001b[0m\u001b[0;34m\u001b[0m\u001b[0m\n\u001b[0m\u001b[1;32m     20\u001b[0m \u001b[0;34m\u001b[0m\u001b[0m\n\u001b[1;32m     21\u001b[0m \u001b[0;31m# Modelo digital de elevação\u001b[0m\u001b[0;34m\u001b[0m\u001b[0;34m\u001b[0m\u001b[0m\n",
      "\u001b[0;31mKeyError\u001b[0m: 'mapBiomas'"
     ]
    }
   ],
   "source": [
    "config = geepy.params.configParams('input.json')\n",
    "\n",
    "ls = ee.FeatureCollection(config.params['lsTiles'])\n",
    "tiles = [geepy.feature.getTiles(ls, tile, 'TILE_T') for tile in config.params['grid']['tiles2process']]\n",
    "\n",
    "l5 = ee.ImageCollection(config.params['imgCollection']['lc5']['id']).select(\n",
    "    config.params[\"imgCollection\"][\"lc5\"][\"bands\"],\n",
    "    config.params[\"imgCollection\"][\"lc5\"][\"bandNames\"])\n",
    "\n",
    "l7 = ee.ImageCollection(config.params['imgCollection']['lc7']['id']).select(\n",
    "    config.params[\"imgCollection\"][\"lc7\"][\"bands\"],\n",
    "    config.params[\"imgCollection\"][\"lc7\"][\"bandNames\"])\n",
    "\n",
    "l8 = ee.ImageCollection(config.params['imgCollection']['lc8']['id']).select(\n",
    "    config.params[\"imgCollection\"][\"lc8\"][\"bands\"],\n",
    "    config.params[\"imgCollection\"][\"lc8\"][\"bandNames\"])\n",
    "\n",
    "# MapBiomas Coleção 2.3\n",
    "mapBiomas = ee.Image(config.params['mapBiomas'])\n",
    "\n",
    "# Modelo digital de elevação\n",
    "srtm = ee.Image(config.params['srtm'])\n",
    "\n",
    "# Localities distace\n",
    "villages = ee.FeatureCollection(config.params['villages']);\n",
    "towns = ee.FeatureCollection(config.params['towns']);\n",
    "farms = ee.FeatureCollection(config.params['farms']);\n",
    "hamlets = ee.FeatureCollection(config.params['hamlets']);\n",
    "rivers = ee.FeatureCollection(config.params['rivers']);\n",
    "\n",
    "dvillage = villages.distance(config.params['radist'])\n",
    "dfarm = farms.distance(config.params['radist'])\n",
    "dtown = towns.distance(config.params['radist'])\n",
    "dhamlet = hamlets.distance(config.params['radist'])\n",
    "driver = rivers.distance(config.params['radist'])"
   ]
  },
  {
   "cell_type": "code",
   "execution_count": null,
   "metadata": {},
   "outputs": [],
   "source": [
    "tileNames = [tiles[i][0] for i in range(len(tiles))]\n",
    "tileCoords = [tiles[i][1].geometry().getInfo()['coordinates'] for i in range(len(tiles))]"
   ]
  },
  {
   "cell_type": "code",
   "execution_count": null,
   "metadata": {},
   "outputs": [],
   "source": [
    "tileCoords"
   ]
  },
  {
   "cell_type": "code",
   "execution_count": null,
   "metadata": {},
   "outputs": [],
   "source": [
    "slope = ee.Terrain.slope(srtm)\n",
    "aspect = ee.Terrain.aspect(srtm).divide(180).multiply(math.pi).sin()"
   ]
  },
  {
   "cell_type": "code",
   "execution_count": null,
   "metadata": {},
   "outputs": [],
   "source": [
    "for year in range(2016, 2017):\n",
    "    y = str(year)\n",
    "    start_d = config.params['years'][y]+config.params['period']['dry']['start']\n",
    "    end_d = config.params['years'][y]+config.params['period']['dry']['end']\n",
    "    #print(\"Start-End dry season %s %s\" %(start_d, end_d))\n",
    "    \n",
    "    if(year < 2002):\n",
    "        filtered = l5.filterMetadata('CLOUD_COVER', 'less_than', config.params['cloudCoverThreshold']).filterDate(start_d, end_d)\n",
    "    elif(year in (2002,2011,2012)):\n",
    "        filtered = l7.filterMetadata('CLOUD_COVER', 'less_than', config.params['cloudCoverThreshold']).filterDate(start_d, end_d)\n",
    "    elif(year > 2002 and year < 2011):\n",
    "        filtered = l5.filterMetadata('CLOUD_COVER', 'less_than', config.params['cloudCoverThreshold']).filterDate(start_d, end_d)\n",
    "    else:\n",
    "        filtered = l8.filterMetadata('CLOUD_COVER', 'less_than', config.params['cloudCoverThreshold']).filterDate(start_d, end_d)\n",
    "\n",
    "    filt = filtered.median()\n",
    "    \n",
    "    #Landsat Tiles\n",
    "    lsClip = [geepy.image.clipImageCollection(filt, tiles[i][1]) for i in range(len(tiles))]\n",
    "    \n",
    "    #VIIRS Tiles\n",
    "    viirs = ee.Image(config.params['VIIRS'][str(year)]).select('avg_rad').divide(100)\n",
    "    \n",
    "    #Resample VIIRS to 30 m\n",
    "    ntl_30m = viirs.resample('bilinear').reproject(\n",
    "        crs = viirs.projection().crs(),\n",
    "        scale = 30\n",
    "    )\n",
    "    \n",
    "    viirsClip = [geepy.image.clipImageCollection(ntl_30m, tiles[i][1]) for i in range(len(tiles))]\n",
    "    srtmClip = [geepy.image.clipImageCollection(srtm, tiles[i][1]) for i in range(len(tiles))]\n",
    "    slopeClip = [geepy.image.clipImageCollection(slope, tiles[i][1]) for i in range(len(tiles))]\n",
    "    aspectClip = [geepy.image.clipImageCollection(aspect, tiles[i][1]) for i in range(len(tiles))]\n",
    "    \n",
    "    dvillageClip = [geepy.image.clipImageCollection(dvillage, tiles[i][1]) for i in range(len(tiles))]\n",
    "    dfarmClip = [geepy.image.clipImageCollection(dfarm, tiles[i][1]) for i in range(len(tiles))]\n",
    "    dtownClip = [geepy.image.clipImageCollection(dtown, tiles[i][1]) for i in range(len(tiles))]\n",
    "    dhamletClip = [geepy.image.clipImageCollection(dhamlet, tiles[i][1]) for i in range(len(tiles))]\n",
    "    driverClip = [geepy.image.clipImageCollection(driver, tiles[i][1]) for i in range(len(tiles))]"
   ]
  },
  {
   "cell_type": "code",
   "execution_count": null,
   "metadata": {},
   "outputs": [],
   "source": [
    "for i in range(len(lsClip)):\n",
    "    lsClip[i] = geepy.image.calcNDVI(lsClip[i])\n",
    "    lsClip[i] = geepy.image.calcEVI(lsClip[i])\n",
    "    lsClip[i] = geepy.image.calcSAVI(lsClip[i])\n",
    "    lsClip[i] = geepy.image.calcNDWI(lsClip[i])\n",
    "    lsClip[i] = geepy.image.calcMNDWI(lsClip[i])\n",
    "    lsClip[i] = geepy.image.waterMask(lsClip[i])\n",
    "    \n",
    "    lsClip[i] = geepy.image.calcFractions(lsClip[i])\n",
    "    lsClip[i] = geepy.image.calcNDFI(lsClip[i])\n",
    "    lsClip[i] = geepy.image.calcNDFI2(lsClip[i])\n",
    "    lsClip[i] = geepy.image.calcNDFI3(lsClip[i])\n",
    "    lsClip[i] = geepy.image.calcFCI(lsClip[i])\n",
    "    lsClip[i] = geepy.image.calcGVNPV(lsClip[i])\n",
    "    lsClip[i] = geepy.image.calcNPVSOIL(lsClip[i])\n",
    "    lsClip[i] = geepy.image.img2Band(lsClip[i], viirsClip[i], 'ntl')\n",
    "    lsClip[i] = geepy.image.calcNDBI(lsClip[i])\n",
    "    "
   ]
  },
  {
   "cell_type": "code",
   "execution_count": null,
   "metadata": {},
   "outputs": [],
   "source": [
    "for i in range(2016, 2017):\n",
    "    dt = 'classification_'+ str(i)  \n",
    "    mbClip = [geepy.image.clipImageCollection(mapBiomas.select(dt), tiles[i][1]) for i in range(len(tiles))]"
   ]
  },
  {
   "cell_type": "code",
   "execution_count": null,
   "metadata": {},
   "outputs": [],
   "source": [
    "for i in range(len(mbClip)):\n",
    "    mbClip[i] = mbClip[i].addBands(ee.Image.pixelLonLat())\n",
    "    mbClip[i] = mbClip[i].rename([\"class\", \"longitude\", \"latitude\"]).cast({\"class\": \"int8\"})\n",
    "    lsClip[i] = geepy.image.img2Band(lsClip[i], srtmClip[i], 'srtm')\n",
    "    lsClip[i] = geepy.image.img2Band(lsClip[i], slopeClip[i], 'slope')\n",
    "    lsClip[i] = geepy.image.img2Band(lsClip[i], aspectClip[i], 'aspect')\n",
    "    \n",
    "    lsClip[i] = geepy.image.img2Band(lsClip[i], dvillageClip[i], 'dvillage')\n",
    "    lsClip[i] = geepy.image.img2Band(lsClip[i], dfarmClip[i], 'dfarm')\n",
    "    lsClip[i] = geepy.image.img2Band(lsClip[i], dtownClip[i], 'dtown')\n",
    "    lsClip[i] = geepy.image.img2Band(lsClip[i], dhamletClip[i], 'dhamlet')\n",
    "    lsClip[i] = geepy.image.img2Band(lsClip[i], driverClip[i], 'driver')\n",
    "    lsClip[i] = geepy.image.img2Band(lsClip[i], mbClip[i].select('class'), 'mbiomas')"
   ]
  },
  {
   "cell_type": "code",
   "execution_count": null,
   "metadata": {},
   "outputs": [],
   "source": [
    "# for i in range(len(lsClip)):\n",
    "#     lsClip[i] = geepy.image.img2Band(lsClip[i], mbClip[i], 'mpmask')"
   ]
  },
  {
   "cell_type": "code",
   "execution_count": null,
   "metadata": {},
   "outputs": [],
   "source": [
    "# Projeto AIBA\n",
    "\n",
    "# 1  Floresta\n",
    "# 2  Formações Florestais\n",
    "# 3  Formações savanicas\n",
    "# 4  Mangue\n",
    "# 5  Florestas plantadas\n",
    "# 9  Formações naturais não-florestais\n",
    "# 10  Áreas umidas naturais não fllorestais\n",
    "# 11  Campos\n",
    "# 12  Outras formações não florestais\n",
    "# 13 Uso agropecuário\n",
    "# 14 Pastagem\n",
    "# 15 Agricultura\n",
    "# 18 Agricultura ou pastagem\n",
    "# 21 Areas não vegetadas\n",
    "# 22 Praias e dunas\n",
    "# 23 Urbano\n",
    "# 24 Outras áreas não vegetadas\n",
    "# 25 agua\n",
    "# 26 não-observado\n",
    "\n",
    "\n",
    "# stratifiedSample\n",
    "\n",
    "n = 1000;\n",
    "\n",
    "tileIndex = int(tileNames.index('T220068'))\n",
    "\n",
    "mb_classes = [i for i in range(28)]\n",
    "\n",
    "# classes específicas\n",
    "points = mbClip[tileIndex].stratifiedSample(\n",
    "    numPoints = n,\n",
    "    classBand = \"class\", \n",
    "    region = tiles[tileIndex][1], \n",
    "    seed = 2015, #random.randint(1,1000),\n",
    "    #1,2,3,4,5,9,10,11,12,13,14,15,18,21,22,23,24,25,26,27\n",
    "    classValues = mb_classes, # valores a serem classificados \n",
    "    classPoints = [0,0,0,n,n,\n",
    "                   n,n,n,0,n,\n",
    "                   0,n,n,n,0,\n",
    "                   n,n,n,n,n,\n",
    "                   0,n,n,n,n,\n",
    "                   n,n,n],\n",
    "    dropNulls = True, \n",
    "    scale = 30\n",
    ")   "
   ]
  },
  {
   "cell_type": "code",
   "execution_count": null,
   "metadata": {},
   "outputs": [],
   "source": [
    "bands = config.params['bandParams']"
   ]
  },
  {
   "cell_type": "code",
   "execution_count": null,
   "metadata": {},
   "outputs": [],
   "source": [
    "points = points.map(geepy.feature.setGeometry)"
   ]
  },
  {
   "cell_type": "code",
   "execution_count": null,
   "metadata": {},
   "outputs": [],
   "source": [
    "# Training\n",
    "training = lsClip[tileIndex].sampleRegions(\n",
    "    collection = points,\n",
    "    properties = ['class'],\n",
    "    scale = 30,\n",
    ") "
   ]
  },
  {
   "cell_type": "code",
   "execution_count": null,
   "metadata": {},
   "outputs": [],
   "source": [
    "trained = ee.Classifier.randomForest(10).train(training, 'class', bands)\n",
    "classified_rf = lsClip[tileIndex].select(bands).classify(trained)"
   ]
  },
  {
   "cell_type": "code",
   "execution_count": null,
   "metadata": {},
   "outputs": [],
   "source": []
  },
  {
   "cell_type": "code",
   "execution_count": null,
   "metadata": {},
   "outputs": [],
   "source": [
    "#final = classified_rf.toInt16()\n",
    "final = classified_rf.toByte()\n",
    "\n",
    "#Ultima versão\n",
    "remapped = final.remap([3,4,5,6,7,9,11,12,13,15,16,17,18,19,21,22,23,24,25,26,27], \\\n",
    "                      [1,2,2,3,3,3,2, 2, 2, 4, 2, 2, 3, 2, 3, 3, 2, 5, 5, 6, 2])\n",
    "\n",
    "\n",
    "#remaped = final.remap([1,2,3,4,5,6,7,8,9,10,11,12,13,14,15,16,17,18,19,20,21,22,23,24,25,26,27], \\\n",
    "#                      [1,2,3,4,5,6,7,8,9,10,11,12,13,14,15,16,17,18,19,20,21,22,23,24,25,26,27])"
   ]
  },
  {
   "cell_type": "code",
   "execution_count": null,
   "metadata": {},
   "outputs": [],
   "source": [
    "#lsClip[tileIndex].bandNames().getInfo()"
   ]
  },
  {
   "cell_type": "code",
   "execution_count": null,
   "metadata": {},
   "outputs": [],
   "source": [
    "mapa_c = geepy.maps.geeMap(tiles[tileIndex][1],zoom=10)\n",
    "\n",
    "l8_vis_params = {'min':0,'max':0.3,'bands':'red,green,blue','format':'png'}\n",
    "\n",
    "class_visParams = {'min':1, 'max':6, 'palette':'006400,00ff00,ffcfff,fbf3c7,ff0000,0000ff', 'format': 'png'}\n",
    "\n",
    "mapBiomas_visParams = {'min': 0, 'max':28,'palette':'d5d5e5,129912,1f4423,006400,00ff00,687537,\\\n",
    "                    76a5af,29eee4,77a605,935132,ff9966,45c2a5, \\\n",
    "                    b8af4f,f1c232,ffffb2,ffd966,f6b26b,a0d0de, \\\n",
    "                    e974ed,d5a6bd,c27ba0,FBF3C7,ea9999,dd7e6b, \\\n",
    "                    b7b7b7,ff99ff, 0000ff,d5d5e5,ce3d3d', 'format': 'png'}\n",
    "\n",
    "# mapa_c.addLayer(lsClip[tileIndex].select('ndwi'), name='ndwi')\n",
    "# mapa_c.addLayer(lsClip[tileIndex].select('ndfi'), vis_params = {'min': 0, 'max':200}, name='ndfi')\n",
    "\n",
    "mapa_c.addLayer(lsClip[tileIndex], vis_params=l8_vis_params, name='landsat')\n",
    "#mapa_c.addLayer(mbClip[tileIndex].select('class'), vis_params=mapBiomas_visParams, name='MapBiomas')\n",
    "mapa_c.addLayer(remapped,vis_params=class_visParams, name='classified_rf')\n",
    "\n",
    "#mapa_c.addLayer(lsClip[tileIndex].select(['wmask']), vis_params = mapBiomas_visParams, name='wmask')\n",
    "#mapa_c.addLayer(lsClip[tileIndex].select(['mndwi']), vis_params = {'min': 0,'max': 1}, name='mndwi')\n",
    "\n",
    "#mapa_c.addLayer(lsClip[tileIndex].select(['srtm']), vis_params = {'min':0,'max':1000, 'palette':'76a5af,29eee4,77a605,935132,ff9966,45c2a5'}, name='srtm')\n",
    "\n",
    "#mapa_c.addLayer(lsClip[tileIndex].select('ntl'), name='viirs')\n",
    "\n",
    "# mapa_c.addLayer(lsClip[tileIndex].select('gv'), vis_params = {'min': 0, 'max':0.004}, name='gv')\n",
    "# mapa_c.addLayer(lsClip[tileIndex].select('npv'), vis_params = {'min': 0, 'max':0.002}, name='npv')\n",
    "# mapa_c.addLayer(lsClip[tileIndex].select('soil'), vis_params = {'min': 0., 'max':0.004}, name='soil')\n",
    "# mapa_c.addLayer(lsClip[tileIndex].select('gvs'), name='gvs')\n",
    "# mapa_c.addLayer(lsClip[tileIndex], vis_params = {'min': 0, 'max':0.004, 'bands': 'gv, npv, soil'}, name='frac')\n",
    "\n",
    "mapa_c.addLayer(points,vis_params = {'color': 'ff0000'}, name='pontos')\n",
    "\n",
    "mapa_c.addControls()   "
   ]
  },
  {
   "cell_type": "code",
   "execution_count": null,
   "metadata": {},
   "outputs": [],
   "source": [
    "#task = geepy.image.send2asset(remapped, tileCoords[tileIndex], 'Classification2', 'users/fernandompimenta/AIBA/classification2')"
   ]
  },
  {
   "cell_type": "code",
   "execution_count": null,
   "metadata": {},
   "outputs": [],
   "source": [
    "#task.start()"
   ]
  },
  {
   "cell_type": "code",
   "execution_count": null,
   "metadata": {},
   "outputs": [],
   "source": [
    "#Export the FeatureCollection to a KML file.\n",
    "task = ee.batch.Export.table.toDrive(\n",
    "  collection = points,\n",
    "  description ='amostras',\n",
    "  fileFormat = 'GeoJSON'\n",
    ")"
   ]
  },
  {
   "cell_type": "code",
   "execution_count": null,
   "metadata": {},
   "outputs": [],
   "source": [
    "task.start()"
   ]
  },
  {
   "cell_type": "code",
   "execution_count": null,
   "metadata": {},
   "outputs": [],
   "source": [
    "                            # '006400,00ff00,ffcfff,fbf3c7,ff0000,d5d5e5,0000ff'\n",
    "colormap = cm.LinearColormap(['#006400','#00ff00','#ffcfff','#fbf3c7','#ff0000','#000000','#0000ff'],\n",
    "    vmin=1,\n",
    "    vmax=7\n",
    ").to_step(7)\n",
    "\n",
    "\n",
    "colormapbiomas = cm.LinearColormap(['#d5d5e5','#129912','#1f4423','#006400','#00ff00','#687537',\\\n",
    "                    '#76a5af','#29eee4','#77a605','#935132','#ff9966','#45c2a5', \\\n",
    "                    '#b8af4f','#f1c232','#ffffb2','#ffd966','#f6b26b','#a0d0de', \\\n",
    "                    '#e974ed','#d5a6bd','#c27ba0','#FBF3C7','#ea9999','#dd7e6b', \\\n",
    "                    '#b7b7b7','#ff99ff','#0000ff','#d5d5e5','#ce3d3d',],\n",
    "    vmin=0,\n",
    "    vmax=28\n",
    ").to_step(29)\n",
    "\n",
    "colormapbiomas"
   ]
  },
  {
   "cell_type": "code",
   "execution_count": null,
   "metadata": {},
   "outputs": [],
   "source": [
    "colormap"
   ]
  },
  {
   "cell_type": "code",
   "execution_count": null,
   "metadata": {},
   "outputs": [],
   "source": [
    "task = geepy.image.send2drive(mbClip[tileIndex].select('class'), tileCoords[tileIndex], 'mapbiomasClass', 'TESTEEE')"
   ]
  },
  {
   "cell_type": "code",
   "execution_count": null,
   "metadata": {},
   "outputs": [],
   "source": [
    "task.start()"
   ]
  },
  {
   "cell_type": "code",
   "execution_count": null,
   "metadata": {},
   "outputs": [],
   "source": [
    "task = geepy.image.send2drive(classified_rf, tileCoords[tileIndex], 'class_new_27', 'driveDir')"
   ]
  },
  {
   "cell_type": "code",
   "execution_count": null,
   "metadata": {},
   "outputs": [],
   "source": [
    "task.start()"
   ]
  }
 ],
 "metadata": {
  "kernelspec": {
   "display_name": "Python 3",
   "language": "python",
   "name": "python3"
  },
  "language_info": {
   "codemirror_mode": {
    "name": "ipython",
    "version": 3
   },
   "file_extension": ".py",
   "mimetype": "text/x-python",
   "name": "python",
   "nbconvert_exporter": "python",
   "pygments_lexer": "ipython3",
   "version": "3.6.5"
  }
 },
 "nbformat": 4,
 "nbformat_minor": 2
}
