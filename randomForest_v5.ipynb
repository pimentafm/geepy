{
 "cells": [
  {
   "cell_type": "code",
   "execution_count": 1,
   "metadata": {},
   "outputs": [],
   "source": [
    "import ee\n",
    "import geepy\n",
    "import math\n",
    "import sys\n",
    "\n",
    "ee.Initialize()"
   ]
  },
  {
   "cell_type": "code",
   "execution_count": 2,
   "metadata": {},
   "outputs": [],
   "source": [
    "config = geepy.params.configParams('input_classification_v5.json')\n",
    "\n",
    "amostras = ee.FeatureCollection(config.params['samples'])\n",
    "\n",
    "watersheds = ee.FeatureCollection(config.params['studyArea']) \n",
    "\n",
    "pivots = {i: ee.FeatureCollection('users/fernandompimenta/AIBA/centralPivots/pc' + i) for (i) in config.params['years2process']}\n",
    "\n",
    "bands = config.params['bandParams']\n",
    "\n",
    "l5 = ee.ImageCollection(config.params['imgCollection']['lc5']['id']).select(\n",
    "    config.params[\"imgCollection\"][\"lc5\"][\"bands\"],\n",
    "    config.params[\"imgCollection\"][\"lc5\"][\"bandNames\"])\n",
    "\n",
    "l7 = ee.ImageCollection(config.params['imgCollection']['lc7']['id']).select(\n",
    "    config.params[\"imgCollection\"][\"lc7\"][\"bands\"],\n",
    "    config.params[\"imgCollection\"][\"lc7\"][\"bandNames\"])\n",
    "\n",
    "l8 = ee.ImageCollection(config.params['imgCollection']['lc8']['id']).select(\n",
    "    config.params[\"imgCollection\"][\"lc8\"][\"bands\"],\n",
    "    config.params[\"imgCollection\"][\"lc8\"][\"bandNames\"])"
   ]
  },
  {
   "cell_type": "code",
   "execution_count": 3,
   "metadata": {},
   "outputs": [],
   "source": [
    "# Modelo digital de elevação\n",
    "srtm = ee.Image(config.params['srtm'])\n",
    "\n",
    "# Localities distace\n",
    "villages = ee.FeatureCollection(config.params['villages'])\n",
    "towns = ee.FeatureCollection(config.params['towns'])\n",
    "farms = ee.FeatureCollection(config.params['farms'])\n",
    "hamlets = ee.FeatureCollection(config.params['hamlets'])\n",
    "rivers = ee.FeatureCollection(config.params['rivers'])\n",
    "\n",
    "dvillage = villages.distance(config.params['radist'])\n",
    "dfarm = farms.distance(config.params['radist'])\n",
    "dtown = towns.distance(config.params['radist'])\n",
    "dhamlet = hamlets.distance(config.params['radist'])\n",
    "driver = rivers.distance(config.params['radist'])\n",
    "\n",
    "slope = ee.Terrain.slope(srtm)\n",
    "aspect = ee.Terrain.aspect(srtm).divide(180).multiply(math.pi).sin()\n",
    "hillshade = ee.Terrain.hillshade(srtm)\n",
    "\n",
    "ntl30m = {}\n",
    "for i in config.params['years2process']:\n",
    "    viirs = ee.Image(config.params['VIIRS'][i]).select('avg_rad').divide(100)\n",
    "    ntl30m[i] = viirs.resample('bilinear').reproject(\n",
    "        crs = viirs.projection().crs(),\n",
    "        scale = 30\n",
    "    )"
   ]
  },
  {
   "cell_type": "code",
   "execution_count": 4,
   "metadata": {},
   "outputs": [],
   "source": [
    "amostragem = geepy.feature.vec2rast(amostras, 'CLASS')\n",
    "\n",
    "n = 2000\n",
    "classBand = 'CLASS'\n",
    "cv = [1,2,3,4,5,6,7]\n",
    "cp = [n for i in range(len(cv))]\n",
    "\n",
    "samples = geepy.image.randomSamples(amostras, amostragem, n, 369, classBand, cv, cp)\n",
    "cp[6] = 100\n",
    "# 1 Formações florestais --- green\n",
    "# 2 Formações savânicas ---- lightgreen\n",
    "# 3 Agricultura Sequeiro --- magenta\n",
    "# 4 Agricultura Irrigada --- pink\n",
    "# 5 Pastagem --------------- yellow\n",
    "# 6 Corpos d'água ---------- blue\n",
    "# 7 Área urbana ------------ red"
   ]
  },
  {
   "cell_type": "code",
   "execution_count": 5,
   "metadata": {},
   "outputs": [
    {
     "name": "stdout",
     "output_type": "stream",
     "text": [
      "Processing Landsat data: 2016"
     ]
    }
   ],
   "source": [
    "landsat = {}\n",
    "\n",
    "for year in config.params['years2process']:  \n",
    "    start_d = year + config.params['period']['dry']['start']\n",
    "    end_d = year + config.params['period']['dry']['end']\n",
    "    #print(\"Start-End dry season %s %s\" %(start_d, end_d))\n",
    "\n",
    "    if(int(year) < 2002):\n",
    "        filtered = l5.filterMetadata('CLOUD_COVER', 'less_than', config.params['cloudCoverThreshold']).filterDate(start_d, end_d)\n",
    "    elif(int(year) in (2002,2011,2012)):\n",
    "        filtered = l7.filterMetadata('CLOUD_COVER', 'less_than', config.params['cloudCoverThreshold']).filterDate(start_d, end_d)\n",
    "    elif(int(year) > 2002 and int(year) < 2011):\n",
    "        filtered = l5.filterMetadata('CLOUD_COVER', 'less_than', config.params['cloudCoverThreshold']).filterDate(start_d, end_d)\n",
    "    else:\n",
    "        filtered = l8.filterMetadata('CLOUD_COVER', 'less_than', config.params['cloudCoverThreshold']).filterDate(start_d, end_d)\n",
    "\n",
    "    fEdgeRemoved = filtered.map(geepy.image.edgeRemoval).median()\n",
    "    \n",
    "    fEdgeRemoved = geepy.image.img2Band(fEdgeRemoved, ntl30m[year], 'ntl')\n",
    "    \n",
    "    fEdgeRemoved = geepy.image.calcNDBI(fEdgeRemoved)\n",
    "\n",
    "    fEdgeRemoved = geepy.image.img2Band(fEdgeRemoved, srtm, 'srtm')\n",
    "    fEdgeRemoved = geepy.image.img2Band(fEdgeRemoved, slope, 'slope')\n",
    "    fEdgeRemoved = geepy.image.img2Band(fEdgeRemoved, aspect, 'aspect')\n",
    "    fEdgeRemoved = geepy.image.img2Band(fEdgeRemoved, hillshade, 'hillshade')\n",
    "    \n",
    "    fEdgeRemoved = geepy.image.img2Band(fEdgeRemoved, dvillage, 'dvillage')\n",
    "    fEdgeRemoved = geepy.image.img2Band(fEdgeRemoved, dfarm, 'dfarm')\n",
    "    fEdgeRemoved = geepy.image.img2Band(fEdgeRemoved, dtown, 'dtown')\n",
    "    fEdgeRemoved = geepy.image.img2Band(fEdgeRemoved, dhamlet, 'dhamlet')\n",
    "    fEdgeRemoved = geepy.image.img2Band(fEdgeRemoved, driver, 'driver')\n",
    "    \n",
    "    fEdgeRemoved = geepy.image.calcNDVI(fEdgeRemoved)\n",
    "    fEdgeRemoved = geepy.image.calcEVI(fEdgeRemoved)\n",
    "    fEdgeRemoved = geepy.image.calcSAVI(fEdgeRemoved)\n",
    "    fEdgeRemoved = geepy.image.calcNDWI(fEdgeRemoved)\n",
    "    fEdgeRemoved = geepy.image.calcMNDWI(fEdgeRemoved)\n",
    "    fEdgeRemoved = geepy.image.waterMask(fEdgeRemoved)\n",
    "\n",
    "    fEdgeRemoved = geepy.image.calcFractions(fEdgeRemoved)\n",
    "    fEdgeRemoved = geepy.image.calcNDFI(fEdgeRemoved)\n",
    "    fEdgeRemoved = geepy.image.calcNDFI2(fEdgeRemoved)\n",
    "    fEdgeRemoved = geepy.image.calcNDFI3(fEdgeRemoved)\n",
    "    fEdgeRemoved = geepy.image.calcFCI(fEdgeRemoved)\n",
    "    fEdgeRemoved = geepy.image.calcGVNPV(fEdgeRemoved)\n",
    "    fEdgeRemoved = geepy.image.calcNPVSOIL(fEdgeRemoved)\n",
    "\n",
    "    ndvithermal = fEdgeRemoved.select('ndvi').divide(fEdgeRemoved.select('thermal'))\n",
    "    fEdgeRemoved = geepy.image.img2Band(fEdgeRemoved, ndvithermal, 'ndvithermal')\n",
    "    \n",
    "    landsat[year] = fEdgeRemoved.clip(watersheds)\n",
    "    \n",
    "    sys.stdout.write(\"\\rProcessing Landsat data: %s\" % year)\n",
    "    sys.stdout.flush()"
   ]
  },
  {
   "cell_type": "code",
   "execution_count": 6,
   "metadata": {},
   "outputs": [
    {
     "name": "stdout",
     "output_type": "stream",
     "text": [
      "Processing Central Pivots data: 2016"
     ]
    }
   ],
   "source": [
    "for year in config.params['years2process']:\n",
    "    pivots[year] = geepy.feature.vec2rast(pivots[year], 'CLASS').reproject(\n",
    "        crs = landsat[year].select('nir').projection().crs(),\n",
    "        scale = 30\n",
    "    )\n",
    "    sys.stdout.write(\"\\rProcessing Central Pivots data: %s\" % year)\n",
    "    sys.stdout.flush()"
   ]
  },
  {
   "cell_type": "code",
   "execution_count": 7,
   "metadata": {},
   "outputs": [],
   "source": [
    "training = geepy.image.trainingSamples(landsat['2016'], samples)"
   ]
  },
  {
   "cell_type": "code",
   "execution_count": 8,
   "metadata": {},
   "outputs": [],
   "source": [
    "classification2016 = geepy.image.randomForest(landsat['2016'], training, bands)"
   ]
  },
  {
   "cell_type": "code",
   "execution_count": 9,
   "metadata": {},
   "outputs": [],
   "source": [
    "classification = {year: geepy.image.randomForest(landsat[year], training, bands) for (year) in config.params['years2process']}"
   ]
  },
  {
   "cell_type": "code",
   "execution_count": 10,
   "metadata": {},
   "outputs": [],
   "source": [
    "classRemapped = {year: classification[year].remap([1,2,3,4,5,6,7],[1,2,3,3,5,6,7]).rename('classification'+year) for (year) in config.params['years2process']}"
   ]
  },
  {
   "cell_type": "code",
   "execution_count": 11,
   "metadata": {},
   "outputs": [],
   "source": [
    "finalClassification = {year: classRemapped[year].where(pivots[year].select('CLASS'), 4) for year in config.params['years2process']}"
   ]
  },
  {
   "cell_type": "code",
   "execution_count": 12,
   "metadata": {},
   "outputs": [
    {
     "data": {
      "text/html": [
       "<div style=\"width:100%;\"><div style=\"position:relative;width:100%;height:0;padding-bottom:60%;\"><iframe src=\"data:text/html;charset=utf-8;base64,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\" style=\"position:absolute;width:100%;height:100%;left:0;top:0;border:none !important;\" allowfullscreen webkitallowfullscreen mozallowfullscreen></iframe></div></div>"
      ],
      "text/plain": [
       "<folium.folium.Map at 0x7fa959849d30>"
      ]
     },
     "execution_count": 12,
     "metadata": {},
     "output_type": "execute_result"
    }
   ],
   "source": [
    "mapa = geepy.maps.geeMap(watersheds, zoom=8)\n",
    "\n",
    "# Training\n",
    "\n",
    "# 1 Flormações florestais -------------------------------- green\n",
    "# 2 Formações savânicas ---------------------------------- lightgreen\n",
    "# 3 Agricultura Sequeiro --------------------------------- magenta\n",
    "# 4 Agricultura Irrigada --------------------------------- pink\n",
    "# 5 Pastagem --------------------------------------------- yellow\n",
    "# 6 Corpos d'água ---------------------------------------- blue\n",
    "# 7 Área urbana/Construções rurais ----------------------- red\n",
    "\n",
    "viz_params = {'min':1,'max':7,'palette':'green, lightgreen, magenta, pink, yellow, blue, red','format':'png'}\n",
    "\n",
    "l5_viz_params = {'min':0,'max':0.5,'bands':'swir1,nir,red','format':'png'}\n",
    "\n",
    "mapa.addLayer(landsat['1990'], viz_params=l5_viz_params, name='landsat')\n",
    "mapa.addLayer(finalClassification['1990'], viz_params=viz_params, name='classificação')\n",
    "#mapa.addLayer(amostragem.select('CLASS'), viz_params = viz_params, name = 'amostragem')\n",
    "\n",
    "#mapa.addLayer(samples, name='pontos')\n",
    "\n",
    "mapa.addControls()"
   ]
  },
  {
   "cell_type": "code",
   "execution_count": 12,
   "metadata": {},
   "outputs": [],
   "source": [
    "coords = [[[-46.632916356914535, -15.447083782725066],\\\n",
    "   [-43.13041651144095, -15.447083782725066],\\\n",
    "   [-43.13041651144095, -10.181249376641395],\\\n",
    "   [-46.632916356914535, -10.181249376641395],\\\n",
    "   [-46.632916356914535, -15.447083782725066]]]"
   ]
  },
  {
   "cell_type": "code",
   "execution_count": null,
   "metadata": {},
   "outputs": [],
   "source": [
    "# To Asset\n",
    "# tasks = {year: geepy.image.send2asset(finalClassification[year], coords, 'classification'+year+'v5', 'users/fernandompimenta/AIBA/classification_v5/classification_'+year+'_v5', 30) for year in config.params['years2process']}          "
   ]
  },
  {
   "cell_type": "code",
   "execution_count": 13,
   "metadata": {},
   "outputs": [],
   "source": [
    "# To drive\n",
    "# tasks = {year: geepy.image.send2drive(finalClassification[year], coords, 'classification'+year+'v5', 'classification_v5', 30) for year in config.params['years2process']}          "
   ]
  },
  {
   "cell_type": "code",
   "execution_count": 14,
   "metadata": {},
   "outputs": [],
   "source": [
    "# for i in tasks.keys():\n",
    "#     [tasks[i].start()]"
   ]
  },
  {
   "cell_type": "code",
   "execution_count": null,
   "metadata": {},
   "outputs": [],
   "source": []
  },
  {
   "cell_type": "code",
   "execution_count": null,
   "metadata": {},
   "outputs": [],
   "source": []
  }
 ],
 "metadata": {
  "kernelspec": {
   "display_name": "Python 3",
   "language": "python",
   "name": "python3"
  },
  "language_info": {
   "codemirror_mode": {
    "name": "ipython",
    "version": 3
   },
   "file_extension": ".py",
   "mimetype": "text/x-python",
   "name": "python",
   "nbconvert_exporter": "python",
   "pygments_lexer": "ipython3",
   "version": "3.6.5"
  }
 },
 "nbformat": 4,
 "nbformat_minor": 2
}
