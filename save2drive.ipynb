{
 "cells": [
  {
   "cell_type": "code",
   "execution_count": null,
   "metadata": {},
   "outputs": [],
   "source": [
    "import ee\n",
    "import time\n",
    "import geepy\n",
    "import math\n",
    "\n",
    "ee.Initialize()"
   ]
  },
  {
   "cell_type": "code",
   "execution_count": null,
   "metadata": {},
   "outputs": [],
   "source": [
    "config = geepy.params.configParams('input.json')\n",
    "\n",
    "ls = ee.FeatureCollection(config.params['lsTiles'])\n",
    "tiles = [geepy.feature.getTiles(ls, tile, 'TILE_T') for tile in config.params['grid']['tiles2process']]\n",
    "\n",
    "l5 = ee.ImageCollection(config.params['imgCollection']['lc5']['id']).select(\n",
    "    config.params[\"imgCollection\"][\"lc5\"][\"bands\"],\n",
    "    config.params[\"imgCollection\"][\"lc5\"][\"bandNames\"])\n",
    "\n",
    "l7 = ee.ImageCollection(config.params['imgCollection']['lc7']['id']).select(\n",
    "    config.params[\"imgCollection\"][\"lc7\"][\"bands\"],\n",
    "    config.params[\"imgCollection\"][\"lc7\"][\"bandNames\"])\n",
    "\n",
    "l8 = ee.ImageCollection(config.params['imgCollection']['lc8']['id']).select(\n",
    "    config.params[\"imgCollection\"][\"lc8\"][\"bands\"],\n",
    "    config.params[\"imgCollection\"][\"lc8\"][\"bandNames\"])"
   ]
  },
  {
   "cell_type": "code",
   "execution_count": null,
   "metadata": {},
   "outputs": [],
   "source": [
    "tileNames = [tiles[i][0] for i in range(len(tiles))]\n",
    "tileCoords = [tiles[i][1].geometry().getInfo()['coordinates'] for i in range(len(tiles))]"
   ]
  },
  {
   "cell_type": "code",
   "execution_count": null,
   "metadata": {},
   "outputs": [],
   "source": [
    "tasks = {}\n",
    "taskStatus = {}\n",
    "\n",
    "sd = 1990\n",
    "ed = 2017\n",
    "\n",
    "for year in range(sd, ed):\n",
    "    y = str(year)\n",
    "    start_d = config.params['years'][y]+config.params['period']['dry']['start']\n",
    "    end_d = config.params['years'][y]+config.params['period']['dry']['end']\n",
    "    #print(\"Start-End dry season %s %s\" %(start_d, end_d))\n",
    "\n",
    "    if(year < 2002):\n",
    "        filtered = l5.filterMetadata('CLOUD_COVER', 'less_than', config.params['cloudCoverThreshold']).filterDate(start_d, end_d)\n",
    "    elif(year in (2002,2011,2012)):\n",
    "        filtered = l7.filterMetadata('CLOUD_COVER', 'less_than', config.params['cloudCoverThreshold']).filterDate(start_d, end_d)\n",
    "    elif(year > 2002 and year < 2011):\n",
    "        filtered = l5.filterMetadata('CLOUD_COVER', 'less_than', config.params['cloudCoverThreshold']).filterDate(start_d, end_d)\n",
    "    else:\n",
    "        filtered = l8.filterMetadata('CLOUD_COVER', 'less_than', config.params['cloudCoverThreshold']).filterDate(start_d, end_d)\n",
    "\n",
    "    filt = filtered.median()\n",
    "\n",
    "    #Landsat Tiles\n",
    "    lsClip = [geepy.image.clipImageCollection(filt, tiles[i][1]) for i in range(len(tiles))]\n",
    "\n",
    "    lsClip = [geepy.image.calcNDVI(lsClip[i]) for i in range(len(lsClip))]\n",
    "\n",
    "    print('Processing: ', y)\n",
    "    tasks[str(y)] = [geepy.image.send2drive(lsClip[i].select(['ndvi']), tileCoords[i], 'landsat_ndvi'+str(year)+'_'+tileNames[i], 'LS578AIBA_ndvi') for i in range(len(tiles))]\n",
    "\n",
    "print('Finish')"
   ]
  },
  {
   "cell_type": "code",
   "execution_count": null,
   "metadata": {},
   "outputs": [],
   "source": [
    "for i in tasks.keys():\n",
    "    print('Exporting to drive: %s' %(i))\n",
    "    [tasks[i][j].start() for j in range(len(tasks[i]))]\n",
    "\n",
    "    taskPoolStatus = False\n",
    "\n",
    "    while taskPoolStatus == False:\n",
    "        taskStatus[i] = [tasks[i][k].status()['state'] for k in range(len(tasks[i]))]\n",
    "        taskPoolStatus = all(status == 'COMPLETED' for status in taskStatus[i])\n",
    "\n",
    "        if taskPoolStatus:\n",
    "            print('Exporting data for year %s is completed.' %(i))\n",
    "            print('Waiting 1 minute.')\n",
    "            time.sleep(60)"
   ]
  }
 ],
 "metadata": {
  "kernelspec": {
   "display_name": "Python 3",
   "language": "python",
   "name": "python3"
  },
  "language_info": {
   "codemirror_mode": {
    "name": "ipython",
    "version": 3
   },
   "file_extension": ".py",
   "mimetype": "text/x-python",
   "name": "python",
   "nbconvert_exporter": "python",
   "pygments_lexer": "ipython3",
   "version": "3.7.2"
  }
 },
 "nbformat": 4,
 "nbformat_minor": 2
}
