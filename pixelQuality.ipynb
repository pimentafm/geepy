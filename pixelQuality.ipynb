{
 "cells": [
  {
   "cell_type": "code",
   "execution_count": 1,
   "metadata": {},
   "outputs": [],
   "source": [
    "import ee\n",
    "ee.Initialize()"
   ]
  },
  {
   "cell_type": "code",
   "execution_count": 2,
   "metadata": {},
   "outputs": [],
   "source": [
    "import geepy\n",
    "import math\n",
    "import sys"
   ]
  },
  {
   "cell_type": "code",
   "execution_count": null,
   "metadata": {},
   "outputs": [],
   "source": []
  },
  {
   "cell_type": "code",
   "execution_count": 3,
   "metadata": {},
   "outputs": [],
   "source": [
    "# Teste 1:\n",
    "\n",
    "# Todas as classes todo o periodo\n",
    "# Floresta Período chuvoso\n",
    "\n",
    "config = geepy.params.configParams('input_classification_v30.json')\n",
    "\n",
    "ls = ee.FeatureCollection(config.params['lsTiles'])\n",
    "tiles = [geepy.feature.getTiles(ls, tile, 'TILE_T') for tile in config.params['grid']['tiles2process']]\n",
    "\n",
    "# amostras = ee.FeatureCollection(config.params['samples']['2016v8'])\n",
    "\n",
    "watersheds = ee.FeatureCollection(config.params['studyArea']) \n",
    "\n",
    "# pivots = {i: ee.FeatureCollection(config.params['pivots'] + i) for (i) in config.params['years2process']}\n",
    "\n",
    "# bands = config.params['bandParams']\n",
    "\n",
    "l5 = ee.ImageCollection(config.params['imgCollection']['lc5']['id']).select(\n",
    "    config.params[\"imgCollection\"][\"lc5\"][\"bands\"],\n",
    "    config.params[\"imgCollection\"][\"lc5\"][\"bandNames\"])\n",
    "\n",
    "l7 = ee.ImageCollection(config.params['imgCollection']['lc7']['id']).select(\n",
    "    config.params[\"imgCollection\"][\"lc7\"][\"bands\"],\n",
    "    config.params[\"imgCollection\"][\"lc7\"][\"bandNames\"])\n",
    "\n",
    "l8 = ee.ImageCollection(config.params['imgCollection']['lc8']['id']).select(\n",
    "    config.params[\"imgCollection\"][\"lc8\"][\"bands\"],\n",
    "    config.params[\"imgCollection\"][\"lc8\"][\"bandNames\"])"
   ]
  },
  {
   "cell_type": "code",
   "execution_count": 4,
   "metadata": {},
   "outputs": [],
   "source": [
    "tileNames = [tiles[i][0] for i in range(len(tiles))]\n",
    "tileCoords = [tiles[i][1].geometry().getInfo()['coordinates'] for i in range(len(tiles))]"
   ]
  },
  {
   "cell_type": "code",
   "execution_count": 5,
   "metadata": {},
   "outputs": [],
   "source": [
    "def clipImage(img, tile):\n",
    "    \"\"\"\n",
    "    clipImageCollection docstring\n",
    "    \n",
    "    Args:\n",
    "        imgCollection:\n",
    "        tile:\n",
    "    \"\"\"\n",
    "    return img.clip(tile)"
   ]
  },
  {
   "cell_type": "code",
   "execution_count": 6,
   "metadata": {},
   "outputs": [],
   "source": [
    "centroids = [tiles[i][1].map(ee.Feature.centroid) for i in range(len(tiles))]"
   ]
  },
  {
   "cell_type": "code",
   "execution_count": 7,
   "metadata": {},
   "outputs": [],
   "source": [
    "def sumGoodPixels(img, centroid):\n",
    "    img = img.filterBounds(centroid).sum()\n",
    "    return img"
   ]
  },
  {
   "cell_type": "code",
   "execution_count": 8,
   "metadata": {},
   "outputs": [],
   "source": [
    "def remapCloudMask(img):\n",
    "    #return img.select('cloudmask').remap([0,1],[1,0])\n",
    "    return img.addBands(img.select('cloudmask').remap([0,1],[1,0]))"
   ]
  },
  {
   "cell_type": "code",
   "execution_count": 9,
   "metadata": {},
   "outputs": [
    {
     "name": "stdout",
     "output_type": "stream",
     "text": [
      "Processing Landsat data: 2018"
     ]
    }
   ],
   "source": [
    "landsat = {}\n",
    "goodPixels = {}\n",
    "mosaic = {}\n",
    "\n",
    "goodPixelsMosaic = {}\n",
    "\n",
    "for year in config.params['years2process']:  \n",
    "    start_d = year + config.params['period']['dry']['start']\n",
    "    end_d = year + config.params['period']['dry']['end']\n",
    "\n",
    "\n",
    "    #print(\"Start-End dry season %s %s\" %(start_d, end_d))\n",
    "\n",
    "    if(int(year) < 2002):\n",
    "        filtered = l5.filterMetadata('CLOUD_COVER', 'less_than', config.params['cloudCoverThreshold']).filterDate(start_d, end_d).map(geepy.image.maskLandsatSR)\n",
    "        satellite = 'l5'\n",
    "    elif(int(year) in (2002, 2011, 2012)):\n",
    "        filtered = l7.filterMetadata('CLOUD_COVER', 'less_than', config.params['cloudCoverThreshold']).filterDate(start_d, end_d).map(geepy.image.maskLandsatSR)\n",
    "        satellite = 'l7'\n",
    "    elif(int(year) > 2002 and int(year) < 2011):\n",
    "        filtered = l5.filterMetadata('CLOUD_COVER', 'less_than', config.params['cloudCoverThreshold']).filterDate(start_d, end_d).map(geepy.image.maskLandsatSR)\n",
    "        satellite = 'l5'\n",
    "    else:\n",
    "        filtered = l8.filterMetadata('CLOUD_COVER', 'less_than', config.params['cloudCoverThreshold']).filterDate(start_d, end_d).map(geepy.image.maskLandsatSR)\n",
    "        satellite = 'l8'\n",
    "    \n",
    "    filtered = filtered.map(remapCloudMask)\n",
    "    \n",
    "    landsat[year] = [sumGoodPixels(filtered, centroids[i]) for i in range(len(centroids))]\n",
    "    \n",
    "    #goodPixels[year] = [clipImage(landsat[year][i], tiles[i][1]) for i in range(len(tiles))]\n",
    "    \n",
    "    goodPixels[year] = [landsat[year][i] for i in range(len(tiles))]\n",
    "    \n",
    "    mosaic[year] = ee.ImageCollection(goodPixels[year]).mosaic().clip(watersheds).multiply(10000).toByte()\n",
    "    \n",
    "    goodPixelsMosaic[year] = mosaic[year].select('cloudmask')\n",
    "    \n",
    "    sys.stdout.write(\"\\rProcessing Landsat data: %s\" % year)\n",
    "    sys.stdout.flush()"
   ]
  },
  {
   "cell_type": "code",
   "execution_count": 10,
   "metadata": {},
   "outputs": [],
   "source": [
    "mapa = geepy.maps.geeMap(watersheds, zoom=10)\n",
    "\n",
    "# Training\n",
    "\n",
    "# 1 Flormações florestais -------------------------------- green\n",
    "# 2 Formações savânicas ---------------------------------- lightgreen\n",
    "# 3 Agricultura de Sequeiro ------------------------------ pink\n",
    "# 4 Agricultura Irrigada --------------------------------- magenta\n",
    "# 5 Pastagem --------------------------------------------- yellow\n",
    "# 6 Corpos d'água ---------------------------------------- blue\n",
    "# 7 Área urbana/Construções rurais ----------------------- red\n",
    "\n",
    "viz_params = {'min': 0, 'max': 24, 'palette':'#004000, #34f200, #ffcaff, #ff42f9, #f4f383, #0000ff, #ff0000','format':'png'}\n",
    "\n",
    "\n",
    "mapa.addLayer(goodPixelsMosaic['1990'], viz_params=viz_params, name='cm')\n",
    "mapa.addLayer(tiles[0][1], name='ts')\n",
    "mapa.addControls()\n",
    "\n",
    "mapa.show()"
   ]
  },
  {
   "cell_type": "code",
   "execution_count": 11,
   "metadata": {},
   "outputs": [],
   "source": [
    "coords = [[[-46.632916356914535, -15.447083782725066],\\\n",
    "   [-43.13041651144095, -15.447083782725066],\\\n",
    "   [-43.13041651144095, -10.181249376641395],\\\n",
    "   [-46.632916356914535, -10.181249376641395],\\\n",
    "   [-46.632916356914535, -15.447083782725066]]]"
   ]
  },
  {
   "cell_type": "code",
   "execution_count": 13,
   "metadata": {},
   "outputs": [],
   "source": [
    "# To drive\n",
    "tasks = {year: geepy.image.send2drive(goodPixelsMosaic[year], coords, 'goodPixels'+year+'_v30', 'goodPixels_v30', 30) for year in config.params['years2process']}"
   ]
  },
  {
   "cell_type": "code",
   "execution_count": 14,
   "metadata": {},
   "outputs": [],
   "source": [
    "for i in tasks.keys():\n",
    "   [tasks[i].start()]"
   ]
  },
  {
   "cell_type": "code",
   "execution_count": null,
   "metadata": {},
   "outputs": [],
   "source": []
  }
 ],
 "metadata": {
  "kernelspec": {
   "display_name": "Python 3",
   "language": "python",
   "name": "python3"
  },
  "language_info": {
   "codemirror_mode": {
    "name": "ipython",
    "version": 3
   },
   "file_extension": ".py",
   "mimetype": "text/x-python",
   "name": "python",
   "nbconvert_exporter": "python",
   "pygments_lexer": "ipython3",
   "version": "3.6.8"
  }
 },
 "nbformat": 4,
 "nbformat_minor": 2
}
