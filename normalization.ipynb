{
 "cells": [
  {
   "cell_type": "code",
   "execution_count": 1,
   "metadata": {},
   "outputs": [],
   "source": [
    "import ee\n",
    "ee.Initialize()"
   ]
  },
  {
   "cell_type": "code",
   "execution_count": 2,
   "metadata": {},
   "outputs": [],
   "source": [
    "import geepy\n",
    "import math\n",
    "import sys"
   ]
  },
  {
   "cell_type": "code",
   "execution_count": 3,
   "metadata": {},
   "outputs": [],
   "source": [
    "config = geepy.params.configParams('input_classification_v31.json')\n",
    "\n",
    "bands = config.params['bandParams']\n",
    "\n",
    "l5 = ee.ImageCollection(config.params['imgCollection']['lc5']['id']).select(\n",
    "    config.params[\"imgCollection\"][\"lc5\"][\"bands\"],\n",
    "    config.params[\"imgCollection\"][\"lc5\"][\"bandNames\"])\n",
    "\n",
    "l7 = ee.ImageCollection(config.params['imgCollection']['lc7']['id']).select(\n",
    "    config.params[\"imgCollection\"][\"lc7\"][\"bands\"],\n",
    "    config.params[\"imgCollection\"][\"lc7\"][\"bandNames\"])\n",
    "\n",
    "l8 = ee.ImageCollection(config.params['imgCollection']['lc8']['id']).select(\n",
    "    config.params[\"imgCollection\"][\"lc8\"][\"bands\"],\n",
    "    config.params[\"imgCollection\"][\"lc8\"][\"bandNames\"])"
   ]
  },
  {
   "cell_type": "code",
   "execution_count": 4,
   "metadata": {},
   "outputs": [],
   "source": [
    "#watersheds = ee.FeatureCollection(config.params['studyArea'])"
   ]
  },
  {
   "cell_type": "code",
   "execution_count": 5,
   "metadata": {},
   "outputs": [],
   "source": [
    "tiles = ee.FeatureCollection(config.params['lsTiles'])"
   ]
  },
  {
   "cell_type": "code",
   "execution_count": 6,
   "metadata": {},
   "outputs": [],
   "source": [
    "tile = geepy.feature.getTiles(tiles, 'T'+config.params['grid']['tiles'][7], 'TILE_T')\n",
    "tile = tile[1]"
   ]
  },
  {
   "cell_type": "code",
   "execution_count": 7,
   "metadata": {},
   "outputs": [
    {
     "name": "stdout",
     "output_type": "stream",
     "text": [
      "Processing Landsat data: 2018"
     ]
    }
   ],
   "source": [
    "landsat = {}\n",
    "landsat_min = {}\n",
    "landsat_max = {}\n",
    "\n",
    "for year in config.params['years2process']:  \n",
    "    start_d = year + config.params['period']['dry']['start']\n",
    "    end_d = year + config.params['period']['dry']['end']\n",
    "\n",
    "\n",
    "    #print(\"Start-End dry season %s %s\" %(start_d, end_d))\n",
    "\n",
    "    if(int(year) < 2002):\n",
    "        filtered = l5.filterMetadata('CLOUD_COVER', 'less_than', config.params['cloudCoverThreshold']).filterDate(start_d, end_d).map(geepy.image.maskLandsatSR)\n",
    "        satellite = 'l5'\n",
    "    elif(int(year) in (2002, 2011, 2012)):\n",
    "        filtered = l7.filterMetadata('CLOUD_COVER', 'less_than', config.params['cloudCoverThreshold']).filterDate(start_d, end_d).map(geepy.image.maskLandsatSR)\n",
    "        satellite = 'l7'\n",
    "    elif(int(year) > 2002 and int(year) < 2011):\n",
    "        filtered = l5.filterMetadata('CLOUD_COVER', 'less_than', config.params['cloudCoverThreshold']).filterDate(start_d, end_d).map(geepy.image.maskLandsatSR)\n",
    "        satellite = 'l5'\n",
    "    elif(int(year) == 2018):\n",
    "        filtered = l8.filterMetadata('CLOUD_COVER', 'less_than', config.params['cloudCoverThreshold']).filterDate(start_d, '2018-09-06').map(geepy.image.maskLandsatSR)\n",
    "        satellite = 'l8'\n",
    "    else:\n",
    "        filtered = l8.filterMetadata('CLOUD_COVER', 'less_than', config.params['cloudCoverThreshold']).filterDate(start_d, end_d).map(geepy.image.maskLandsatSR)\n",
    "        satellite = 'l8'\n",
    "    \n",
    "    fEdgeRemoved = filtered.map(geepy.image.edgeRemoval).median()\n",
    "    fEdgeRemoved_min = filtered.map(geepy.image.edgeRemoval).min()\n",
    "    fEdgeRemoved_max = filtered.map(geepy.image.edgeRemoval).max()\n",
    "    \n",
    "    landsat[year] = fEdgeRemoved.clip(tile)\n",
    "    \n",
    "    landsat_min[year] = fEdgeRemoved_min.clip(tile)\n",
    "    landsat_max[year] = fEdgeRemoved_max.clip(tile)\n",
    "    \n",
    "    sys.stdout.write(\"\\rProcessing Landsat data: %s\" % year)\n",
    "    sys.stdout.flush()"
   ]
  },
  {
   "cell_type": "code",
   "execution_count": null,
   "metadata": {},
   "outputs": [],
   "source": []
  },
  {
   "cell_type": "code",
   "execution_count": null,
   "metadata": {},
   "outputs": [],
   "source": []
  },
  {
   "cell_type": "code",
   "execution_count": null,
   "metadata": {},
   "outputs": [],
   "source": []
  },
  {
   "cell_type": "code",
   "execution_count": null,
   "metadata": {},
   "outputs": [],
   "source": []
  },
  {
   "cell_type": "code",
   "execution_count": 8,
   "metadata": {},
   "outputs": [],
   "source": [
    "def normalize(img, bandMin, bandMax, bandName):\n",
    "    \n",
    "    numer = img.select(bandName).subtract(bandMin)\n",
    "    denom = bandMax - bandMin\n",
    "    \n",
    "    res = numer.divide(denom)\n",
    "    \n",
    "    return img.addBands(res.rename(['norm'+bandName]))"
   ]
  },
  {
   "cell_type": "code",
   "execution_count": 10,
   "metadata": {},
   "outputs": [],
   "source": [
    "minMax = fEdgeRemoved_max.reduceRegion(\n",
    "    reducer = ee.Reducer.minMax(),\n",
    "    scale = 30,\n",
    "    geometry = tile,\n",
    "    maxPixels = 1e13,\n",
    "    bestEffort = True\n",
    ")"
   ]
  },
  {
   "cell_type": "code",
   "execution_count": 11,
   "metadata": {},
   "outputs": [
    {
     "name": "stdout",
     "output_type": "stream",
     "text": [
      "0.90420001745224\n",
      "0.7091000080108643\n",
      "0.6309000253677368\n",
      "1.373900055885315\n",
      "1.600000023841858\n",
      "1.600000023841858\n"
     ]
    }
   ],
   "source": [
    "print(ee.Number(minMax.get('red_max')).getInfo())\n",
    "print(ee.Number(minMax.get('green_max')).getInfo())\n",
    "print(ee.Number(minMax.get('blue_max')).getInfo())\n",
    "print(ee.Number(minMax.get('nir_max')).getInfo())\n",
    "print(ee.Number(minMax.get('swir1_max')).getInfo())\n",
    "print(ee.Number(minMax.get('swir2_max')).getInfo())"
   ]
  },
  {
   "cell_type": "code",
   "execution_count": null,
   "metadata": {},
   "outputs": [],
   "source": []
  },
  {
   "cell_type": "code",
   "execution_count": null,
   "metadata": {},
   "outputs": [],
   "source": [
    "for year in config.params['years2process']:\n",
    "    landsat[year] = normalize(landsat[str(year)],\n",
    "              -0.200, \n",
    "              1.600, 'red')"
   ]
  },
  {
   "cell_type": "code",
   "execution_count": null,
   "metadata": {},
   "outputs": [],
   "source": []
  },
  {
   "cell_type": "code",
   "execution_count": null,
   "metadata": {},
   "outputs": [],
   "source": [
    "print(ee.Number(minMax.get('red_min')).getInfo())\n",
    "print(ee.Number(minMax.get('green_min')).getInfo())\n",
    "print(ee.Number(minMax.get('blue_min')).getInfo())\n",
    "print(ee.Number(minMax.get('nir_min')).getInfo())\n",
    "print(ee.Number(minMax.get('swir1_min')).getInfo())\n",
    "print(ee.Number(minMax.get('swir2_min')).getInfo())"
   ]
  },
  {
   "cell_type": "code",
   "execution_count": null,
   "metadata": {},
   "outputs": [],
   "source": []
  },
  {
   "cell_type": "code",
   "execution_count": null,
   "metadata": {},
   "outputs": [],
   "source": []
  },
  {
   "cell_type": "code",
   "execution_count": null,
   "metadata": {},
   "outputs": [],
   "source": []
  },
  {
   "cell_type": "code",
   "execution_count": null,
   "metadata": {},
   "outputs": [],
   "source": [
    "mapa = geepy.maps.geeMap(tile, zoom=10)\n",
    "#mapa.addLayer(landsat['1990'], viz_params={'min':0.15,'max':0.4,'bands':'swir1,nir,red'}, name=year)\n",
    "\n",
    "mapa.addLayer(landsat['1990'], viz_params={'min':0.15,'max':0.4,'bands':'normswir1,normnir,normred'}, name='norm1990')\n",
    "#mapa.addLayer(landsat['2000'], viz_params={'min':0.15,'max':0.4,'bands':'normswir1,normnir,normred'}, name='norm2000')\n",
    "#mapa.addLayer(landsat['2018'], viz_params={'min':0.15,'max':0.4,'bands':'swir1,nir,red'}, name='norm2014')\n",
    "#mapa.addLayer(landsat['1990'], viz_params={'min':0.15,'max':0.4,'bands':'swir1_min,nir_min,red_min'}, name='norm2018')\n",
    "mapa.addControls()\n",
    "\n",
    "mapa.show()"
   ]
  },
  {
   "cell_type": "code",
   "execution_count": null,
   "metadata": {},
   "outputs": [],
   "source": [
    "task = geepy.image.send2drive(landsat['2018'].select(['normswir1', 'normnir', 'normred']), coords, 'normalization', 'normal', 30)"
   ]
  },
  {
   "cell_type": "code",
   "execution_count": null,
   "metadata": {},
   "outputs": [],
   "source": [
    "task.start()"
   ]
  },
  {
   "cell_type": "code",
   "execution_count": null,
   "metadata": {},
   "outputs": [],
   "source": []
  },
  {
   "cell_type": "code",
   "execution_count": null,
   "metadata": {},
   "outputs": [],
   "source": []
  },
  {
   "cell_type": "code",
   "execution_count": null,
   "metadata": {},
   "outputs": [],
   "source": [
    "\n",
    "\n"
   ]
  },
  {
   "cell_type": "code",
   "execution_count": null,
   "metadata": {},
   "outputs": [],
   "source": []
  },
  {
   "cell_type": "code",
   "execution_count": null,
   "metadata": {},
   "outputs": [],
   "source": []
  },
  {
   "cell_type": "code",
   "execution_count": null,
   "metadata": {},
   "outputs": [],
   "source": []
  }
 ],
 "metadata": {
  "kernelspec": {
   "display_name": "Python 3",
   "language": "python",
   "name": "python3"
  },
  "language_info": {
   "codemirror_mode": {
    "name": "ipython",
    "version": 3
   },
   "file_extension": ".py",
   "mimetype": "text/x-python",
   "name": "python",
   "nbconvert_exporter": "python",
   "pygments_lexer": "ipython3",
   "version": "3.6.8"
  }
 },
 "nbformat": 4,
 "nbformat_minor": 2
}
