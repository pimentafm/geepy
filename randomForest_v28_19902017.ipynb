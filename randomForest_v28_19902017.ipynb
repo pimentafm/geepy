{
 "cells": [
  {
   "cell_type": "code",
   "execution_count": 1,
   "metadata": {},
   "outputs": [],
   "source": [
    "import ee\n",
    "ee.Initialize()"
   ]
  },
  {
   "cell_type": "code",
   "execution_count": 2,
   "metadata": {},
   "outputs": [],
   "source": [
    "import geepy\n",
    "import math\n",
    "import sys"
   ]
  },
  {
   "cell_type": "code",
   "execution_count": 3,
   "metadata": {},
   "outputs": [],
   "source": [
    "# Teste 1:\n",
    "\n",
    "# Todas as classes todo o periodo\n",
    "# Floresta Período chuvoso\n",
    "\n",
    "config = geepy.params.configParams('input_classification_v28.json')\n",
    "\n",
    "amostras = ee.FeatureCollection(config.params['samples']['2016v13'])\n",
    "\n",
    "watersheds = ee.FeatureCollection(config.params['studyArea']) \n",
    "\n",
    "pivots = {i: ee.FeatureCollection(config.params['pivots'] + i) for (i) in config.params['years2process']}\n",
    "\n",
    "bands = config.params['bandParams']\n",
    "\n",
    "l5 = ee.ImageCollection(config.params['imgCollection']['lc5']['id']).select(\n",
    "    config.params[\"imgCollection\"][\"lc5\"][\"bands\"],\n",
    "    config.params[\"imgCollection\"][\"lc5\"][\"bandNames\"])\n",
    "\n",
    "l7 = ee.ImageCollection(config.params['imgCollection']['lc7']['id']).select(\n",
    "    config.params[\"imgCollection\"][\"lc7\"][\"bands\"],\n",
    "    config.params[\"imgCollection\"][\"lc7\"][\"bandNames\"])\n",
    "\n",
    "l8 = ee.ImageCollection(config.params['imgCollection']['lc8']['id']).select(\n",
    "    config.params[\"imgCollection\"][\"lc8\"][\"bands\"],\n",
    "    config.params[\"imgCollection\"][\"lc8\"][\"bandNames\"])"
   ]
  },
  {
   "cell_type": "code",
   "execution_count": 4,
   "metadata": {},
   "outputs": [],
   "source": [
    "# Modelo digital de elevação\n",
    "#srtm = ee.Image(config.params['srtm'])\n",
    "alos = ee.Image(config.params['alos']).select('MED')\n",
    "\n",
    "# Localities distance\n",
    "towns = ee.FeatureCollection(config.params['towns'])\n",
    "rivers = ee.FeatureCollection(config.params['hidroBDGEx'])\n",
    "\n",
    "dtown = towns.distance(config.params['radist'])\n",
    "driver = rivers.distance(config.params['radist'])\n",
    "\n",
    "# slope = ee.Terrain.slope(srtm)\n",
    "# aspect = ee.Terrain.aspect(srtm).divide(180).multiply(math.pi).sin()\n",
    "# hillshade = ee.Terrain.hillshade(srtm)\n",
    "\n",
    "slope = ee.Terrain.slope(alos)\n",
    "aspect = ee.Terrain.aspect(alos).divide(180).multiply(math.pi).sin()\n",
    "hillshade = ee.Terrain.hillshade(alos)\n",
    "\n",
    "ntl30m = {}\n",
    "for i in config.params['years2process']:\n",
    "    viirs = ee.Image(config.params['VIIRS'][i]).select('avg_rad').divide(100)\n",
    "    ntl30m[i] = viirs.resample('bilinear').reproject(\n",
    "        crs = viirs.projection().crs(),\n",
    "        scale = 30\n",
    "    )"
   ]
  },
  {
   "cell_type": "code",
   "execution_count": 5,
   "metadata": {},
   "outputs": [],
   "source": [
    "#### Test water mask\n",
    "wmask = driver.lt(300)"
   ]
  },
  {
   "cell_type": "code",
   "execution_count": 6,
   "metadata": {},
   "outputs": [
    {
     "name": "stdout",
     "output_type": "stream",
     "text": [
      "Processing Landsat data: 2017"
     ]
    }
   ],
   "source": [
    "landsat = {}\n",
    "\n",
    "for year in config.params['years2process']:  \n",
    "    start_d = year + config.params['period']['dry']['start']\n",
    "    end_d = year + config.params['period']['dry']['end']\n",
    "\n",
    "\n",
    "    #print(\"Start-End dry season %s %s\" %(start_d, end_d))\n",
    "\n",
    "    if(int(year) < 2002):\n",
    "        filtered = l5.filterMetadata('CLOUD_COVER', 'less_than', config.params['cloudCoverThreshold']).filterDate(start_d, end_d).map(geepy.image.maskLandsatSR)\n",
    "        satellite = 'l5'\n",
    "    elif(int(year) in (2002, 2011, 2012)):\n",
    "        filtered = l7.filterMetadata('CLOUD_COVER', 'less_than', config.params['cloudCoverThreshold']).filterDate(start_d, end_d).map(geepy.image.maskLandsatSR)\n",
    "        satellite = 'l7'\n",
    "    elif(int(year) > 2002 and int(year) < 2011):\n",
    "        filtered = l5.filterMetadata('CLOUD_COVER', 'less_than', config.params['cloudCoverThreshold']).filterDate(start_d, end_d).map(geepy.image.maskLandsatSR)\n",
    "        satellite = 'l5'\n",
    "    else:\n",
    "        filtered = l8.filterMetadata('CLOUD_COVER', 'less_than', config.params['cloudCoverThreshold']).filterDate(start_d, end_d).map(geepy.image.maskLandsatSR)\n",
    "        satellite = 'l8'\n",
    "    \n",
    "    fEdgeRemoved = filtered.map(geepy.image.edgeRemoval).median()\n",
    "    \n",
    "    fEdgeRemoved = geepy.image.img2Band(fEdgeRemoved, ntl30m[year], 'ntl')\n",
    "    \n",
    "    fEdgeRemoved = geepy.image.calcNDBI(fEdgeRemoved)\n",
    "\n",
    "    #fEdgeRemoved = geepy.image.img2Band(fEdgeRemoved, srtm, 'srtm')\n",
    "    fEdgeRemoved = geepy.image.img2Band(fEdgeRemoved, wmask, 'wmask')\n",
    "    fEdgeRemoved = geepy.image.img2Band(fEdgeRemoved, alos, 'alos')\n",
    "    fEdgeRemoved = geepy.image.img2Band(fEdgeRemoved, slope, 'slope')\n",
    "    fEdgeRemoved = geepy.image.img2Band(fEdgeRemoved, aspect, 'aspect')\n",
    "    fEdgeRemoved = geepy.image.img2Band(fEdgeRemoved, hillshade, 'hillshade')\n",
    "    \n",
    "    fEdgeRemoved = geepy.image.img2Band(fEdgeRemoved, dtown, 'dtown')\n",
    "    fEdgeRemoved = geepy.image.img2Band(fEdgeRemoved, driver, 'driver')\n",
    "    \n",
    "    fEdgeRemoved = geepy.image.calcNDVI(fEdgeRemoved)\n",
    "    fEdgeRemoved = geepy.image.calcEVI(fEdgeRemoved)\n",
    "    fEdgeRemoved = geepy.image.calcSAVI(fEdgeRemoved)\n",
    "    fEdgeRemoved = geepy.image.calcNDWI(fEdgeRemoved)\n",
    "    fEdgeRemoved = geepy.image.calcMNDWI(fEdgeRemoved)\n",
    "    \n",
    "    fEdgeRemoved = geepy.image.calcRatio(fEdgeRemoved)\n",
    "\n",
    "    fEdgeRemoved = geepy.image.calcFractions(fEdgeRemoved)\n",
    "    fEdgeRemoved = geepy.image.calcNDFI(fEdgeRemoved)\n",
    "    fEdgeRemoved = geepy.image.calcNDFI2(fEdgeRemoved)\n",
    "    fEdgeRemoved = geepy.image.calcNDFI3(fEdgeRemoved)\n",
    "    fEdgeRemoved = geepy.image.calcFCI(fEdgeRemoved)\n",
    "    fEdgeRemoved = geepy.image.calcGVNPV(fEdgeRemoved)\n",
    "    fEdgeRemoved = geepy.image.calcNPVSOIL(fEdgeRemoved)\n",
    "    \n",
    "    fEdgeRemoved = geepy.image.tassCapTransformation(fEdgeRemoved, satellite)\n",
    "\n",
    "    ndvithermal = fEdgeRemoved.select('ndvi').divide(fEdgeRemoved.select('thermal'))\n",
    "    fEdgeRemoved = geepy.image.img2Band(fEdgeRemoved, ndvithermal, 'ndvithermal')\n",
    "    \n",
    "    # Rotina muito pesada para o Google Engine\n",
    "    #fEdgeRemoved = geepy.image.calcBCI(fEdgeRemoved, watersheds)\n",
    "    \n",
    "    landsat[year] = fEdgeRemoved.clip(watersheds) \n",
    "    \n",
    "    sys.stdout.write(\"\\rProcessing Landsat data: %s\" % year)\n",
    "    sys.stdout.flush()"
   ]
  },
  {
   "cell_type": "code",
   "execution_count": 7,
   "metadata": {},
   "outputs": [],
   "source": [
    "amostragem = geepy.feature.vec2rast(amostras, 'CLASS')\n",
    "\n",
    "n = 4000\n",
    "classBand = 'CLASS'\n",
    "cv = [1,2,3,4,5,6,7,8,9,10,11,12]\n",
    "cp = [n for i in range(len(cv))]\n",
    "\n",
    "cp[6] = 0    # Agricultura irrigada\n",
    "#cp[7] = 1000 # Pastagem\n",
    "cp[9] = 500  # Área urbana\n",
    "\n",
    "samples = geepy.image.randomSamples(amostras, amostragem, n, 369, classBand, cv, cp)\n",
    "# 1 Formações florestais --------------------------------- #004000\n",
    "# 2 Formações savânicas ---------------------------------- #77a605\n",
    "# 3 Mata ciliar ------------------------------------------ #004000\n",
    "# 4 Grassland -------------------------------------------- #b8af4f\n",
    "# 5 Agricultura ou pastagem ------------------------------ #f6e6db\n",
    "# 6 Agricultura de sequeiro ------------------------------ #ffcaff\n",
    "# 7 Agricultura Irrigada --------------------------------- #ff42f9\n",
    "# 8 Pastagem  -------------------------------------------- #f4f286\n",
    "# 9 Corpos d'água ---------------------------------------- #0000ff\n",
    "# 10 Área urbana/Construções rurais ---------------------- #ff0000\n",
    "# 11 Solo exposto ---------------------------------------- #77a605\n",
    "# 12 Rochas ---------------------------------------------- #77a605"
   ]
  },
  {
   "cell_type": "code",
   "execution_count": 8,
   "metadata": {},
   "outputs": [
    {
     "name": "stdout",
     "output_type": "stream",
     "text": [
      "Processing Central Pivots data: 2017"
     ]
    }
   ],
   "source": [
    "for year in config.params['years2process']:\n",
    "    pivots[year] = geepy.feature.vec2rast(pivots[year], 'CLASS').reproject(\n",
    "        crs = landsat[year].select('nir').projection().crs(),\n",
    "        scale = 30\n",
    "    )\n",
    "    sys.stdout.write(\"\\rProcessing Central Pivots data: %s\" % year)\n",
    "    sys.stdout.flush()"
   ]
  },
  {
   "cell_type": "code",
   "execution_count": 9,
   "metadata": {},
   "outputs": [
    {
     "name": "stdout",
     "output_type": "stream",
     "text": [
      "Processing Central Pivots data: 2017"
     ]
    }
   ],
   "source": [
    "# muda o valor dos pivos de 4 para 7\n",
    "for year in config.params['years2process']:\n",
    "    pivots[year] = pivots[year].remap([4],[7]).rename(['CLASS'])\n",
    "    sys.stdout.write(\"\\rProcessing Central Pivots data: %s\" % year)\n",
    "    sys.stdout.flush()"
   ]
  },
  {
   "cell_type": "code",
   "execution_count": 10,
   "metadata": {},
   "outputs": [],
   "source": [
    "training = samples.filter(ee.Filter.gt('randCol', 0.5))\n",
    "validation = samples.filter(ee.Filter.lt('randCol', 0.5))\n",
    "\n",
    "trained = geepy.image.trainingSamples(landsat['2016'], training)"
   ]
  },
  {
   "cell_type": "code",
   "execution_count": null,
   "metadata": {},
   "outputs": [],
   "source": []
  },
  {
   "cell_type": "code",
   "execution_count": 11,
   "metadata": {},
   "outputs": [],
   "source": [
    "# Save trained samples to drive\n",
    "#saveTrained = geepy.feature.send2drive(trained, 'treinamento 2016','treinamento2016v27', 'amostras',' CSV')"
   ]
  },
  {
   "cell_type": "code",
   "execution_count": 12,
   "metadata": {},
   "outputs": [],
   "source": [
    "#saveTrained.start()"
   ]
  },
  {
   "cell_type": "code",
   "execution_count": 13,
   "metadata": {},
   "outputs": [],
   "source": [
    "# Randon Forest\n",
    "classification = {year: geepy.image.randomForest(landsat[year], trained, bands, ntrees=100) for (year) in config.params['years2process']}"
   ]
  },
  {
   "cell_type": "code",
   "execution_count": 14,
   "metadata": {},
   "outputs": [],
   "source": [
    "classRemapped = {year: classification[year][0].remap([1,2,3,4,5,6,7,8,9,10,11,12],[1,2,3,4,5,6,6,8,9,10,11,12]).rename('classification'+year) for (year) in config.params['years2process']}"
   ]
  },
  {
   "cell_type": "code",
   "execution_count": 15,
   "metadata": {},
   "outputs": [],
   "source": [
    "finalClassification = {year: classRemapped[year].where(pivots[year].select('CLASS'), 7) for year in config.params['years2process']}"
   ]
  },
  {
   "cell_type": "code",
   "execution_count": 19,
   "metadata": {},
   "outputs": [
    {
     "ename": "EEException",
     "evalue": "Earth Engine memory capacity exceeded.",
     "output_type": "error",
     "traceback": [
      "\u001b[0;31m---------------------------------------------------------------------------\u001b[0m",
      "\u001b[0;31mEEException\u001b[0m                               Traceback (most recent call last)",
      "\u001b[0;32m<ipython-input-19-9a2dbcbfc2dc>\u001b[0m in \u001b[0;36m<module>\u001b[0;34m()\u001b[0m\n\u001b[1;32m     17\u001b[0m \u001b[0;34m\u001b[0m\u001b[0m\n\u001b[1;32m     18\u001b[0m \u001b[0;31m#for i in config.params['years2process']:\u001b[0m\u001b[0;34m\u001b[0m\u001b[0;34m\u001b[0m\u001b[0m\n\u001b[0;32m---> 19\u001b[0;31m \u001b[0mmapa\u001b[0m\u001b[0;34m.\u001b[0m\u001b[0maddLayer\u001b[0m\u001b[0;34m(\u001b[0m\u001b[0mfinalClassification\u001b[0m\u001b[0;34m[\u001b[0m\u001b[0mano\u001b[0m\u001b[0;34m]\u001b[0m\u001b[0;34m,\u001b[0m \u001b[0mviz_params\u001b[0m\u001b[0;34m=\u001b[0m\u001b[0mconfig\u001b[0m\u001b[0;34m.\u001b[0m\u001b[0mparams\u001b[0m\u001b[0;34m[\u001b[0m\u001b[0;34m'vizParams'\u001b[0m\u001b[0;34m]\u001b[0m\u001b[0;34m[\u001b[0m\u001b[0;34m'classification'\u001b[0m\u001b[0;34m]\u001b[0m\u001b[0;34m,\u001b[0m \u001b[0mname\u001b[0m\u001b[0;34m=\u001b[0m\u001b[0mano\u001b[0m\u001b[0;34m)\u001b[0m\u001b[0;34m\u001b[0m\u001b[0m\n\u001b[0m\u001b[1;32m     20\u001b[0m \u001b[0;34m\u001b[0m\u001b[0m\n\u001b[1;32m     21\u001b[0m \u001b[0mmapa\u001b[0m\u001b[0;34m.\u001b[0m\u001b[0maddLayer\u001b[0m\u001b[0;34m(\u001b[0m\u001b[0mlandsat\u001b[0m\u001b[0;34m[\u001b[0m\u001b[0mano\u001b[0m\u001b[0;34m]\u001b[0m\u001b[0;34m,\u001b[0m \u001b[0mviz_params\u001b[0m\u001b[0;34m=\u001b[0m\u001b[0;34m{\u001b[0m\u001b[0;34m'min'\u001b[0m\u001b[0;34m:\u001b[0m\u001b[0;36m0.15\u001b[0m\u001b[0;34m,\u001b[0m\u001b[0;34m'max'\u001b[0m\u001b[0;34m:\u001b[0m\u001b[0;36m0.4\u001b[0m\u001b[0;34m,\u001b[0m\u001b[0;34m'bands'\u001b[0m\u001b[0;34m:\u001b[0m\u001b[0;34m'swir1,nir,red'\u001b[0m\u001b[0;34m}\u001b[0m\u001b[0;34m,\u001b[0m \u001b[0mname\u001b[0m\u001b[0;34m=\u001b[0m\u001b[0mano\u001b[0m\u001b[0;34m)\u001b[0m\u001b[0;34m\u001b[0m\u001b[0m\n",
      "\u001b[0;32m~/Documents/workspace/geepy/geepy/maps.py\u001b[0m in \u001b[0;36maddLayer\u001b[0;34m(self, img, viz_params, name)\u001b[0m\n\u001b[1;32m     57\u001b[0m         \u001b[0mfolium_kwargs\u001b[0m\u001b[0;34m=\u001b[0m\u001b[0;34m{\u001b[0m\u001b[0;34m'overlay'\u001b[0m\u001b[0;34m:\u001b[0m\u001b[0;32mTrue\u001b[0m\u001b[0;34m,\u001b[0m\u001b[0;34m'name'\u001b[0m\u001b[0;34m:\u001b[0m\u001b[0mname\u001b[0m\u001b[0;34m}\u001b[0m\u001b[0;34m\u001b[0m\u001b[0m\n\u001b[1;32m     58\u001b[0m \u001b[0;34m\u001b[0m\u001b[0m\n\u001b[0;32m---> 59\u001b[0;31m         \u001b[0mimg_info\u001b[0m \u001b[0;34m=\u001b[0m \u001b[0mimg\u001b[0m\u001b[0;34m.\u001b[0m\u001b[0mgetMapId\u001b[0m\u001b[0;34m(\u001b[0m\u001b[0mviz_params\u001b[0m\u001b[0;34m)\u001b[0m\u001b[0;34m\u001b[0m\u001b[0m\n\u001b[0m\u001b[1;32m     60\u001b[0m         \u001b[0mmapid\u001b[0m \u001b[0;34m=\u001b[0m \u001b[0mimg_info\u001b[0m\u001b[0;34m[\u001b[0m\u001b[0;34m'mapid'\u001b[0m\u001b[0;34m]\u001b[0m\u001b[0;34m\u001b[0m\u001b[0m\n\u001b[1;32m     61\u001b[0m         \u001b[0mtoken\u001b[0m \u001b[0;34m=\u001b[0m \u001b[0mimg_info\u001b[0m\u001b[0;34m[\u001b[0m\u001b[0;34m'token'\u001b[0m\u001b[0;34m]\u001b[0m\u001b[0;34m\u001b[0m\u001b[0m\n",
      "\u001b[0;32m/usr/lib/python3.6/site-packages/ee/image.py\u001b[0m in \u001b[0;36mgetMapId\u001b[0;34m(self, vis_params)\u001b[0m\n\u001b[1;32m    127\u001b[0m     \u001b[0mrequest\u001b[0m \u001b[0;34m=\u001b[0m \u001b[0;34m(\u001b[0m\u001b[0mvis_params\u001b[0m \u001b[0;32mor\u001b[0m \u001b[0;34m{\u001b[0m\u001b[0;34m}\u001b[0m\u001b[0;34m)\u001b[0m\u001b[0;34m.\u001b[0m\u001b[0mcopy\u001b[0m\u001b[0;34m(\u001b[0m\u001b[0;34m)\u001b[0m\u001b[0;34m\u001b[0m\u001b[0m\n\u001b[1;32m    128\u001b[0m     \u001b[0mrequest\u001b[0m\u001b[0;34m[\u001b[0m\u001b[0;34m'image'\u001b[0m\u001b[0;34m]\u001b[0m \u001b[0;34m=\u001b[0m \u001b[0mself\u001b[0m\u001b[0;34m.\u001b[0m\u001b[0mserialize\u001b[0m\u001b[0;34m(\u001b[0m\u001b[0;34m)\u001b[0m\u001b[0;34m\u001b[0m\u001b[0m\n\u001b[0;32m--> 129\u001b[0;31m     \u001b[0mresponse\u001b[0m \u001b[0;34m=\u001b[0m \u001b[0mdata\u001b[0m\u001b[0;34m.\u001b[0m\u001b[0mgetMapId\u001b[0m\u001b[0;34m(\u001b[0m\u001b[0mrequest\u001b[0m\u001b[0;34m)\u001b[0m\u001b[0;34m\u001b[0m\u001b[0m\n\u001b[0m\u001b[1;32m    130\u001b[0m     \u001b[0mresponse\u001b[0m\u001b[0;34m[\u001b[0m\u001b[0;34m'image'\u001b[0m\u001b[0;34m]\u001b[0m \u001b[0;34m=\u001b[0m \u001b[0mself\u001b[0m\u001b[0;34m\u001b[0m\u001b[0m\n\u001b[1;32m    131\u001b[0m     \u001b[0;32mreturn\u001b[0m \u001b[0mresponse\u001b[0m\u001b[0;34m\u001b[0m\u001b[0m\n",
      "\u001b[0;32m/usr/lib/python3.6/site-packages/ee/data.py\u001b[0m in \u001b[0;36mgetMapId\u001b[0;34m(params)\u001b[0m\n\u001b[1;32m    226\u001b[0m   \"\"\"\n\u001b[1;32m    227\u001b[0m   \u001b[0mparams\u001b[0m\u001b[0;34m[\u001b[0m\u001b[0;34m'json_format'\u001b[0m\u001b[0;34m]\u001b[0m \u001b[0;34m=\u001b[0m \u001b[0;34m'v2'\u001b[0m\u001b[0;34m\u001b[0m\u001b[0m\n\u001b[0;32m--> 228\u001b[0;31m   \u001b[0;32mreturn\u001b[0m \u001b[0msend_\u001b[0m\u001b[0;34m(\u001b[0m\u001b[0;34m'/mapid'\u001b[0m\u001b[0;34m,\u001b[0m \u001b[0mparams\u001b[0m\u001b[0;34m)\u001b[0m\u001b[0;34m\u001b[0m\u001b[0m\n\u001b[0m\u001b[1;32m    229\u001b[0m \u001b[0;34m\u001b[0m\u001b[0m\n\u001b[1;32m    230\u001b[0m \u001b[0;34m\u001b[0m\u001b[0m\n",
      "\u001b[0;32m/usr/lib/python3.6/site-packages/ee/data.py\u001b[0m in \u001b[0;36msend_\u001b[0;34m(path, params, opt_method, opt_raw)\u001b[0m\n\u001b[1;32m    807\u001b[0m       \u001b[0;32mraise\u001b[0m \u001b[0mee_exception\u001b[0m\u001b[0;34m.\u001b[0m\u001b[0mEEException\u001b[0m\u001b[0;34m(\u001b[0m\u001b[0;34m'Invalid JSON: %s'\u001b[0m \u001b[0;34m%\u001b[0m \u001b[0mcontent\u001b[0m\u001b[0;34m)\u001b[0m\u001b[0;34m\u001b[0m\u001b[0m\n\u001b[1;32m    808\u001b[0m     \u001b[0;32mif\u001b[0m \u001b[0;34m'error'\u001b[0m \u001b[0;32min\u001b[0m \u001b[0mjson_content\u001b[0m\u001b[0;34m:\u001b[0m\u001b[0;34m\u001b[0m\u001b[0m\n\u001b[0;32m--> 809\u001b[0;31m       \u001b[0;32mraise\u001b[0m \u001b[0mee_exception\u001b[0m\u001b[0;34m.\u001b[0m\u001b[0mEEException\u001b[0m\u001b[0;34m(\u001b[0m\u001b[0mjson_content\u001b[0m\u001b[0;34m[\u001b[0m\u001b[0;34m'error'\u001b[0m\u001b[0;34m]\u001b[0m\u001b[0;34m[\u001b[0m\u001b[0;34m'message'\u001b[0m\u001b[0;34m]\u001b[0m\u001b[0;34m)\u001b[0m\u001b[0;34m\u001b[0m\u001b[0m\n\u001b[0m\u001b[1;32m    810\u001b[0m     \u001b[0;32mif\u001b[0m \u001b[0;34m'data'\u001b[0m \u001b[0;32mnot\u001b[0m \u001b[0;32min\u001b[0m \u001b[0mcontent\u001b[0m\u001b[0;34m:\u001b[0m\u001b[0;34m\u001b[0m\u001b[0m\n\u001b[1;32m    811\u001b[0m       \u001b[0;32mraise\u001b[0m \u001b[0mee_exception\u001b[0m\u001b[0;34m.\u001b[0m\u001b[0mEEException\u001b[0m\u001b[0;34m(\u001b[0m\u001b[0;34m'Malformed response: '\u001b[0m \u001b[0;34m+\u001b[0m \u001b[0mstr\u001b[0m\u001b[0;34m(\u001b[0m\u001b[0mcontent\u001b[0m\u001b[0;34m)\u001b[0m\u001b[0;34m)\u001b[0m\u001b[0;34m\u001b[0m\u001b[0m\n",
      "\u001b[0;31mEEException\u001b[0m: Earth Engine memory capacity exceeded."
     ]
    }
   ],
   "source": [
    "mapa = geepy.maps.geeMap(watersheds, zoom=10)\n",
    "# Training\n",
    "# 1 Formações florestais --------------------------------- #004000\n",
    "# 2 Formações savânicas ---------------------------------- #77a605\n",
    "# 3 Mata ciliar ------------------------------------------ #004000\n",
    "# 4 Grassland -------------------------------------------- #b8af4f\n",
    "# 5 Agricultura ou pastagem ------------------------------ #f6e6db\n",
    "# 6 Agricultura de sequeiro ------------------------------ #ffcaff\n",
    "# 7 Agricultura Irrigada --------------------------------- #ff42f9\n",
    "# 8 Pastagem  -------------------------------------------- #f4f286\n",
    "# 9 Corpos d'água ---------------------------------------- #0000ff\n",
    "# 10 Área urbana/Construções rurais ---------------------- #ff0000\n",
    "# 11 Solo exposto ---------------------------------------- #77a605\n",
    "# 12 Rochas ---------------------------------------------- #77a605\n",
    "\n",
    "ano = '1991'\n",
    "\n",
    "#for i in config.params['years2process']:\n",
    "mapa.addLayer(finalClassification[ano], viz_params=config.params['vizParams']['classification'], name=ano)\n",
    "\n",
    "mapa.addLayer(landsat[ano], viz_params={'min':0.15,'max':0.4,'bands':'swir1,nir,red'}, name=ano)\n",
    "#mapa.addLayer(landsat['2016'], viz_params={'min':0.15,'max':0.4,'bands':'swir1,nir,red'}, name='2016')\n",
    "\n",
    "mapa.addControls()\n",
    "\n",
    "mapa.show()"
   ]
  },
  {
   "cell_type": "code",
   "execution_count": 16,
   "metadata": {},
   "outputs": [],
   "source": [
    "coords = [[[-46.632916356914535, -15.447083782725066],\\\n",
    "   [-43.13041651144095, -15.447083782725066],\\\n",
    "   [-43.13041651144095, -10.181249376641395],\\\n",
    "   [-46.632916356914535, -10.181249376641395],\\\n",
    "   [-46.632916356914535, -15.447083782725066]]]"
   ]
  },
  {
   "cell_type": "code",
   "execution_count": 17,
   "metadata": {},
   "outputs": [],
   "source": [
    "# To drive\n",
    "tasks = {year: geepy.image.send2drive(finalClassification[year], coords, 'classification'+year+'v29', 'classification_v29', 30) for year in config.params['years2process']}"
   ]
  },
  {
   "cell_type": "code",
   "execution_count": 18,
   "metadata": {},
   "outputs": [],
   "source": [
    "for i in tasks.keys():\n",
    "   [tasks[i].start()]"
   ]
  },
  {
   "cell_type": "code",
   "execution_count": 19,
   "metadata": {},
   "outputs": [],
   "source": [
    "accuracy = {year: geepy.image.accuracyAssessment(classification[year][1]) for year in config.params['years2process']}"
   ]
  },
  {
   "cell_type": "code",
   "execution_count": 20,
   "metadata": {},
   "outputs": [],
   "source": [
    "accTasks = {year: geepy.feature.send2drive(accuracy[year], 'accuracyAssessment' + year, 'accuracyAssessment_v29', 'accuracyAssessment'+year+'_v29', 'GeoJSON') for year in config.params['years2process']}"
   ]
  },
  {
   "cell_type": "code",
   "execution_count": 21,
   "metadata": {},
   "outputs": [],
   "source": [
    "for i in accTasks.keys():\n",
    "    [accTasks[i].start()]"
   ]
  },
  {
   "cell_type": "code",
   "execution_count": null,
   "metadata": {},
   "outputs": [],
   "source": [
    "#\n",
    "#salvar = geepy.image.send2drive(finalClassification['1990'], coords, 'classification1990TodasMaskagua', 'classification1990TodasMaskagua', 30)"
   ]
  },
  {
   "cell_type": "code",
   "execution_count": null,
   "metadata": {},
   "outputs": [],
   "source": [
    "#salvar.start()"
   ]
  },
  {
   "cell_type": "code",
   "execution_count": null,
   "metadata": {},
   "outputs": [],
   "source": [
    "#aa = geepy.image.send2asset(finalClassification['1990'], coords, 'classification1991v6', 'users/fernandompimenta/AIBA/classification_v6/classification_1991_v6', 30)\n",
    "\n",
    "task = {year: geepy.image.send2asset(finalClassification[year], \n",
    "                                     coords, \n",
    "                                     'classification'+year+'v21', \n",
    "                                     'users/fernandompimenta/AIBA/classification_v21', \n",
    "                                     30) for year in config.params['years2process']\n",
    "       }"
   ]
  },
  {
   "cell_type": "code",
   "execution_count": null,
   "metadata": {},
   "outputs": [],
   "source": [
    "for i in task.keys():\n",
    "    [task[i].start()]"
   ]
  },
  {
   "cell_type": "code",
   "execution_count": null,
   "metadata": {},
   "outputs": [],
   "source": [
    "#Salva EVI\n",
    "# To drive\n",
    "tasksEVI = {year: geepy.image.send2drive(landsat[year].select(['evi']), coords, 'evi'+year+'v28', 'evi_v28', 30) for year in config.params['years2process']}"
   ]
  },
  {
   "cell_type": "code",
   "execution_count": null,
   "metadata": {},
   "outputs": [],
   "source": [
    "for i in tasksEVI.keys():\n",
    "    [tasksEVI[i].start()]"
   ]
  },
  {
   "cell_type": "code",
   "execution_count": null,
   "metadata": {},
   "outputs": [],
   "source": [
    "EVI2017 = geepy.image.send2drive(landsat['2017'].select(['evi']), coords, 'EVI2017', 'EVI2017', 30)"
   ]
  },
  {
   "cell_type": "code",
   "execution_count": null,
   "metadata": {},
   "outputs": [],
   "source": [
    "EVI2017.start()"
   ]
  },
  {
   "cell_type": "code",
   "execution_count": 17,
   "metadata": {},
   "outputs": [],
   "source": [
    "#Validation\n",
    "validation = samples.filter(ee.Filter.lt('randCol', 0.5))\n",
    "\n",
    "validated = geepy.image.trainingSamples(landsat['2016'], validation)\n",
    "\n",
    "\n",
    "# Randon Forest\n",
    "classValidation = {year: geepy.image.randomForest(landsat[year], validated, bands, ntrees=100) for (year) in config.params['years2process']}"
   ]
  },
  {
   "cell_type": "code",
   "execution_count": 18,
   "metadata": {},
   "outputs": [],
   "source": [
    "#remappedValidation = {year: classValidation[year][0].remap([1,2,3,4,5,6,7,8,9,10,11,12],[1,2,3,4,5,6,6,8,9,10,11,12]).rename('classification'+year) for (year) in config.params['years2process']}"
   ]
  },
  {
   "cell_type": "code",
   "execution_count": 19,
   "metadata": {},
   "outputs": [],
   "source": [
    "#finalValidation = {year: remappedValidation[year].where(pivots[year].select('CLASS'), 7) for year in config.params['years2process']}"
   ]
  },
  {
   "cell_type": "code",
   "execution_count": 20,
   "metadata": {},
   "outputs": [],
   "source": [
    "accuracyV = geepy.image.accuracyAssessment(classValidation['2016'][1])"
   ]
  },
  {
   "cell_type": "code",
   "execution_count": 21,
   "metadata": {},
   "outputs": [],
   "source": [
    "tt = geepy.feature.send2drive(accuracyV, 'accuracyAssessment_valid', 'accuracyAssessment_valid', 'accuracyAssessment_valid', 'GeoJSON')"
   ]
  },
  {
   "cell_type": "code",
   "execution_count": 22,
   "metadata": {},
   "outputs": [],
   "source": [
    "tt.start()"
   ]
  },
  {
   "cell_type": "code",
   "execution_count": null,
   "metadata": {},
   "outputs": [],
   "source": []
  },
  {
   "cell_type": "code",
   "execution_count": null,
   "metadata": {},
   "outputs": [],
   "source": []
  },
  {
   "cell_type": "code",
   "execution_count": null,
   "metadata": {},
   "outputs": [],
   "source": []
  },
  {
   "cell_type": "code",
   "execution_count": null,
   "metadata": {},
   "outputs": [],
   "source": []
  },
  {
   "cell_type": "code",
   "execution_count": null,
   "metadata": {},
   "outputs": [],
   "source": []
  },
  {
   "cell_type": "code",
   "execution_count": null,
   "metadata": {},
   "outputs": [],
   "source": []
  }
 ],
 "metadata": {
  "kernelspec": {
   "display_name": "Python 3",
   "language": "python",
   "name": "python3"
  },
  "language_info": {
   "codemirror_mode": {
    "name": "ipython",
    "version": 3
   },
   "file_extension": ".py",
   "mimetype": "text/x-python",
   "name": "python",
   "nbconvert_exporter": "python",
   "pygments_lexer": "ipython3",
   "version": "3.6.6"
  }
 },
 "nbformat": 4,
 "nbformat_minor": 2
}
