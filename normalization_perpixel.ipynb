{
 "cells": [
  {
   "cell_type": "code",
   "execution_count": 1,
   "metadata": {},
   "outputs": [],
   "source": [
    "import ee\n",
    "ee.Initialize()"
   ]
  },
  {
   "cell_type": "code",
   "execution_count": 2,
   "metadata": {},
   "outputs": [],
   "source": [
    "import geepy\n",
    "import math\n",
    "import sys"
   ]
  },
  {
   "cell_type": "code",
   "execution_count": 3,
   "metadata": {},
   "outputs": [],
   "source": [
    "config = geepy.params.configParams('input_classification_v31.json')\n",
    "\n",
    "amostras = ee.FeatureCollection(config.params['samples']['2016v13'])\n",
    "watersheds = ee.FeatureCollection(config.params['studyArea']) \n",
    "pivots = {i: ee.FeatureCollection(config.params['pivots'] + i) for (i) in config.params['years2process']}\n",
    "\n",
    "bands = config.params['bandParams']\n",
    "\n",
    "l5 = ee.ImageCollection(config.params['imgCollection']['lc5']['sr']).select(\n",
    "    config.params[\"imgCollection\"][\"lc5\"][\"bands\"],\n",
    "    config.params[\"imgCollection\"][\"lc5\"][\"bandNames\"])\n",
    "\n",
    "l7 = ee.ImageCollection(config.params['imgCollection']['lc7']['sr']).select(\n",
    "    config.params[\"imgCollection\"][\"lc7\"][\"bands\"],\n",
    "    config.params[\"imgCollection\"][\"lc7\"][\"bandNames\"])\n",
    "\n",
    "l8 = ee.ImageCollection(config.params['imgCollection']['lc8']['sr']).select(\n",
    "    config.params[\"imgCollection\"][\"lc8\"][\"bands\"],\n",
    "    config.params[\"imgCollection\"][\"lc8\"][\"bandNames\"])"
   ]
  },
  {
   "cell_type": "code",
   "execution_count": 4,
   "metadata": {},
   "outputs": [],
   "source": [
    "watersheds = ee.FeatureCollection(config.params['studyArea'])"
   ]
  },
  {
   "cell_type": "code",
   "execution_count": 5,
   "metadata": {},
   "outputs": [],
   "source": [
    "# Modelo digital de elevação\n",
    "#srtm = ee.Image(config.params['srtm'])\n",
    "alos = ee.Image(config.params['alos']).select('MED')\n",
    "\n",
    "# Localities distance\n",
    "towns = ee.FeatureCollection(config.params['towns'])\n",
    "rivers = ee.FeatureCollection(config.params['hidroBDGEx'])\n",
    "\n",
    "dtown = towns.distance(config.params['radist'])\n",
    "driver = rivers.distance(config.params['radist'])\n",
    "\n",
    "#slope = ee.Terrain.slope(srtm)\n",
    "#aspect = ee.Terrain.aspect(srtm).divide(180).multiply(math.pi).sin()\n",
    "#hillshade = ee.Terrain.hillshade(srtm)\n",
    "\n",
    "slope = ee.Terrain.slope(alos)\n",
    "aspect = ee.Terrain.aspect(alos).divide(180).multiply(math.pi).sin()\n",
    "hillshade = ee.Terrain.hillshade(alos)\n",
    "\n",
    "ntl30m = {}\n",
    "for i in config.params['years2process']:\n",
    "    viirs = ee.Image(config.params['VIIRS'][i]).select('avg_rad').divide(100)\n",
    "    ntl30m[i] = viirs.resample('bilinear').reproject(\n",
    "        crs = viirs.projection().crs(),\n",
    "        scale = 30\n",
    "    )"
   ]
  },
  {
   "cell_type": "code",
   "execution_count": 6,
   "metadata": {},
   "outputs": [],
   "source": [
    "#### Test water mask\n",
    "wmask = driver.lt(300)"
   ]
  },
  {
   "cell_type": "code",
   "execution_count": 7,
   "metadata": {},
   "outputs": [],
   "source": [
    "# Normalização MINMAX\n",
    "# red_min: 0.02093536965548992 red_max: 0.25079047679901123\n",
    "# green_min: 0.029166514053940773 green_max: 0.21491336822509766\n",
    "# blue min: 0.014318205416202545 blue_max: 0.16634832322597504\n",
    "# nir_min: 0.12935519218444824 nir_max: 0.4512617290019989\n",
    "# swir1_min:0.11579428613185883 swir1_max: 0.4675990045070648\n",
    "# swir2_max: 0.049420811235904694 swir2_max: 0.37917670607566833\n",
    "\n",
    "def normalizeBands(img, img_min, img_max):\n",
    "    \"\"\"\n",
    "        normalizeBands help\n",
    "        \n",
    "        (img - min)/(max - min)\n",
    "    \"\"\"\n",
    "    \n",
    "    numer = img.subtract(img_min)\n",
    "    denon = img_max.subtract(img_min)\n",
    "    \n",
    "    normalized = numer.divide(denon)\n",
    "    \n",
    "    return normalized"
   ]
  },
  {
   "cell_type": "code",
   "execution_count": 8,
   "metadata": {},
   "outputs": [
    {
     "name": "stdout",
     "output_type": "stream",
     "text": [
      "Processing Landsat data: 2018"
     ]
    }
   ],
   "source": [
    "landsat = {}\n",
    "landsat_min = {}\n",
    "landsat_max = {}\n",
    "\n",
    "correctedImages = {}\n",
    "\n",
    "for year in config.params['years2process']:  \n",
    "    start_d = year + config.params['period']['dry']['start']\n",
    "    end_d = year + config.params['period']['dry']['end']\n",
    "\n",
    "\n",
    "    #print(\"Start-End dry season %s %s\" %(start_d, end_d))\n",
    "\n",
    "    if(int(year) < 2002):\n",
    "        filtered = l5.filterMetadata('CLOUD_COVER', 'less_than', config.params['cloudCoverThreshold']).filterDate(start_d, end_d).map(geepy.image.maskLandsatSR)\n",
    "        satellite = 'l5'\n",
    "    elif(int(year) in (2002, 2011, 2012)):\n",
    "        filtered = l7.filterMetadata('CLOUD_COVER', 'less_than', config.params['cloudCoverThreshold']).filterDate(start_d, end_d).map(geepy.image.maskLandsatSR)\n",
    "        satellite = 'l7'\n",
    "    elif(int(year) > 2002 and int(year) < 2011):\n",
    "        filtered = l5.filterMetadata('CLOUD_COVER', 'less_than', config.params['cloudCoverThreshold']).filterDate(start_d, end_d).map(geepy.image.maskLandsatSR)\n",
    "        satellite = 'l5'\n",
    "    elif(int(year) == 2018):\n",
    "        filtered = l8.filterMetadata('CLOUD_COVER', 'less_than', config.params['cloudCoverThreshold']).filterDate(start_d, '2018-09-06').map(geepy.image.maskLandsatSR)\n",
    "        satellite = 'l8'\n",
    "    else:\n",
    "        filtered = l8.filterMetadata('CLOUD_COVER', 'less_than', config.params['cloudCoverThreshold']).filterDate(start_d, end_d).map(geepy.image.maskLandsatSR)\n",
    "        satellite = 'l8'\n",
    "  \n",
    "\n",
    "    correctedImages[year] = filtered.map(geepy.image.edgeRemoval).median()\n",
    "    \n",
    "    sys.stdout.write(\"\\rProcessing Landsat data: %s\" % year)\n",
    "    sys.stdout.flush()\n",
    "    \n",
    "collectionFromImages = ee.ImageCollection.fromImages(list(correctedImages.values()));\n",
    "\n",
    "images_min = collectionFromImages.min()\n",
    "images_max = collectionFromImages.max()\n",
    "\n",
    "for year in config.params['years2process']:\n",
    "    normalized = normalizeBands(correctedImages[year], images_min, images_max)\n",
    "    \n",
    "    normalized = geepy.image.img2Band(normalized, ntl30m[year], 'ntl')\n",
    "    normalized = geepy.image.img2Band(normalized, wmask, 'wmask')\n",
    "    normalized = geepy.image.img2Band(normalized, alos, 'alos')\n",
    "    normalized = geepy.image.img2Band(normalized, slope, 'slope')\n",
    "    normalized = geepy.image.img2Band(normalized, aspect, 'aspect')\n",
    "    normalized = geepy.image.img2Band(normalized, hillshade, 'hillshade')\n",
    "    normalized = geepy.image.img2Band(normalized, dtown, 'dtown')\n",
    "    normalized = geepy.image.img2Band(normalized, driver, 'driver')\n",
    "    \n",
    "    normalized = geepy.image.calcNDBI(normalized)\n",
    "    normalized = geepy.image.calcNDVI(normalized)\n",
    "    normalized = geepy.image.calcEVI(normalized)\n",
    "    normalized = geepy.image.calcSAVI(normalized)\n",
    "    normalized = geepy.image.calcNDWI_L(normalized)\n",
    "    normalized = geepy.image.calcNDWI_WB(normalized)\n",
    "    normalized = geepy.image.calcRatio(normalized)\n",
    "    \n",
    "    normalized = geepy.image.tassCapTransformation(normalized, satellite)\n",
    "\n",
    "    ndvithermal = normalized.select('ndvi').divide(normalized.select('thermal'))\n",
    "    normalized = geepy.image.img2Band(normalized, ndvithermal, 'ndvithermal')\n",
    "    \n",
    "    #fEdgeRemoved_min = filtered.map(geepy.image.edgeRemoval).min()\n",
    "    #fEdgeRemoved_max = filtered.map(geepy.image.edgeRemoval).max()\n",
    "    \n",
    "    landsat[year] = normalized.clip(watersheds)\n",
    "    \n",
    "    #landsat_min[year] = fEdgeRemoved_min.clip(watersheds)\n",
    "    #landsat_max[year] = fEdgeRemoved_max.clip(watersheds)\n",
    "    \n",
    "    sys.stdout.write(\"\\rProcessing Landsat data: %s\" % year)\n",
    "    sys.stdout.flush()"
   ]
  },
  {
   "cell_type": "code",
   "execution_count": null,
   "metadata": {},
   "outputs": [],
   "source": []
  },
  {
   "cell_type": "code",
   "execution_count": null,
   "metadata": {},
   "outputs": [],
   "source": []
  },
  {
   "cell_type": "code",
   "execution_count": null,
   "metadata": {},
   "outputs": [],
   "source": []
  },
  {
   "cell_type": "code",
   "execution_count": null,
   "metadata": {},
   "outputs": [],
   "source": [
    "# To Drive\n",
    "tasks = {year: geepy.image.send2drive(landsat[year].select(['red','green', 'blue']), config.params['extent'], 'normalized'+year+'v31', 'normalized_v31', 30) for year in config.params['years2process']}"
   ]
  },
  {
   "cell_type": "code",
   "execution_count": null,
   "metadata": {},
   "outputs": [],
   "source": [
    "for i in tasks.keys():\n",
    "   [tasks[i].start()]"
   ]
  },
  {
   "cell_type": "code",
   "execution_count": null,
   "metadata": {},
   "outputs": [],
   "source": [
    "amostragem = geepy.feature.vec2rast(amostras, 'CLASS')\n",
    "\n",
    "n = 4000\n",
    "classBand = 'CLASS'\n",
    "cv = [1,2,3,4,5,6,7,8,9,10,11,12]\n",
    "cp = [n for i in range(len(cv))]\n",
    "\n",
    "#cp[6] = 0   # Agricultura irrigada\n",
    "cp[3] = 3000 # Formações campestres\n",
    "#cp[5] = 2000 # Agricultura de sequeiro\n",
    "#cp[7] = 1000 # Pastagem\n",
    "cp[9] = 200  # Área urbana\n",
    "\n",
    "samples = geepy.image.randomSamples(amostras, amostragem, n, 369, classBand, cv, cp)\n",
    "# 1 Formações florestais --------------------------------- #004000\n",
    "# 2 Formações savânicas ---------------------------------- #77a605\n",
    "# 3 Mata ciliar ------------------------------------------ #004000\n",
    "# 4 Formações campestres --------------------------------- #b8af4f\n",
    "# 5 Agricultura ou pastagem ------------------------------ #f6e6db\n",
    "# 6 Agricultura de sequeiro ------------------------------ #ffcaff\n",
    "# 7 Agricultura Irrigada --------------------------------- #ff42f9\n",
    "# 8 Pastagem  -------------------------------------------- #f4f286\n",
    "# 9 Corpos d'água ---------------------------------------- #0000ff\n",
    "# 10 Área urbana/Construções rurais ---------------------- #ff0000\n",
    "# 11 Solo exposto ---------------------------------------- #77a605\n",
    "# 12 Rochas ---------------------------------------------- #77a605"
   ]
  },
  {
   "cell_type": "code",
   "execution_count": null,
   "metadata": {},
   "outputs": [],
   "source": [
    "for year in config.params['years2process']:\n",
    "    pivots[year] = geepy.feature.vec2rast(pivots[year], 'CLASS').reproject(\n",
    "        crs = landsat[year].select('nir').projection().crs(),\n",
    "        scale = 30\n",
    "    )\n",
    "    sys.stdout.write(\"\\rProcessing Central Pivots data: %s\" % year)\n",
    "    sys.stdout.flush()"
   ]
  },
  {
   "cell_type": "code",
   "execution_count": null,
   "metadata": {},
   "outputs": [],
   "source": [
    "# muda o valor dos pivos de 4 para 7\n",
    "for year in config.params['years2process']:\n",
    "    pivots[year] = pivots[year].remap([4],[7]).rename(['CLASS'])\n",
    "    sys.stdout.write(\"\\rProcessing Central Pivots data: %s\" % year)\n",
    "    sys.stdout.flush()"
   ]
  },
  {
   "cell_type": "code",
   "execution_count": null,
   "metadata": {},
   "outputs": [],
   "source": [
    "training = samples.filter(ee.Filter.gt('randCol', 0.2))\n",
    "validation = samples.filter(ee.Filter.lt('randCol', 0.2))\n",
    "\n",
    "trained = geepy.image.trainingSamples(landsat['2016'], training)"
   ]
  },
  {
   "cell_type": "code",
   "execution_count": null,
   "metadata": {},
   "outputs": [],
   "source": [
    "# Randon Forest\n",
    "classification = {year: geepy.image.randomForest(landsat[year], trained, bands, ntrees=100) for (year) in config.params['years2process']}\n",
    "classRemapped = {year: classification[year][0].remap([1,2,3,4,5,6,7,8,9,10,11,12],[1,2,3,4,5,6,6,8,9,10,11,12]).rename('classification'+year) for (year) in config.params['years2process']}\n",
    "finalClassification = {year: classRemapped[year].where(pivots[year].select('CLASS'), 7) for year in config.params['years2process']}"
   ]
  },
  {
   "cell_type": "code",
   "execution_count": null,
   "metadata": {},
   "outputs": [],
   "source": [
    "# collec = ee.ImageCollection([landsat[year] for year in config.params['years2process']])\n",
    "# mini = collec.min()\n",
    "# maxi = collec.max()\n",
    "# taskmin = geepy.image.send2asset(mini, coords, 'mini', 'users/fernandompimenta/AIBA/images/landsatMIN')\n",
    "# taskmax = geepy.image.send2asset(maxi, coords, 'maxi', 'users/fernandompimenta/AIBA/images/landsatMAX')\n",
    "# taskmin.start()\n",
    "# taskmax.start()"
   ]
  },
  {
   "cell_type": "code",
   "execution_count": 12,
   "metadata": {},
   "outputs": [],
   "source": [
    "mapa = geepy.maps.geeMap(watersheds, zoom=10)\n",
    "\n",
    "for i in config.params['years2process']:\n",
    "    mapa.addLayer(landsat[i], viz_params={'min':0,'max':1,'bands':'swir1,nir,red'}, name=i)\n",
    "#mapa.addLayer(finalClassification['2006'], viz_params=config.params['vizParams'], name='norm2006')\n",
    "#mapa.addLayer(finalClassification['1990'], viz_params=config.params['vizParams']['classification'], name='norm2018')\n",
    "\n",
    "mapa.addControls()\n",
    "\n",
    "mapa.show()"
   ]
  },
  {
   "cell_type": "code",
   "execution_count": null,
   "metadata": {},
   "outputs": [],
   "source": [
    "# To Drive\n",
    "tasks = {year: geepy.image.send2drive(finalClassification[year], config.params['extent'], 'classification'+year+'v31', 'classification_v31', 30) for year in config.params['years2process']}"
   ]
  },
  {
   "cell_type": "code",
   "execution_count": null,
   "metadata": {},
   "outputs": [],
   "source": [
    "for i in tasks.keys():\n",
    "   [tasks[i].start()]"
   ]
  },
  {
   "cell_type": "code",
   "execution_count": null,
   "metadata": {},
   "outputs": [],
   "source": []
  },
  {
   "cell_type": "code",
   "execution_count": null,
   "metadata": {},
   "outputs": [],
   "source": [
    "#Normalização MINMAX\n",
    "# red_min: 0.02093536965548992 red_max: 0.25079047679901123\n",
    "# green_min: 0.029166514053940773 green_max: 0.21491336822509766\n",
    "# blue min: 0.014318205416202545 blue_max: 0.16634832322597504\n",
    "# nir_min: 0.12935519218444824 nir_max: 0.4512617290019989\n",
    "# swir1_min:0.11579428613185883 swir1_max: 0.4675990045070648\n",
    "# swir2_max: 0.049420811235904694 swir2_max: 0.37917670607566833"
   ]
  },
  {
   "cell_type": "code",
   "execution_count": null,
   "metadata": {},
   "outputs": [],
   "source": []
  },
  {
   "cell_type": "code",
   "execution_count": null,
   "metadata": {},
   "outputs": [],
   "source": []
  },
  {
   "cell_type": "code",
   "execution_count": null,
   "metadata": {},
   "outputs": [],
   "source": []
  },
  {
   "cell_type": "code",
   "execution_count": null,
   "metadata": {},
   "outputs": [],
   "source": []
  },
  {
   "cell_type": "code",
   "execution_count": null,
   "metadata": {},
   "outputs": [],
   "source": []
  },
  {
   "cell_type": "code",
   "execution_count": null,
   "metadata": {},
   "outputs": [],
   "source": []
  },
  {
   "cell_type": "code",
   "execution_count": null,
   "metadata": {},
   "outputs": [],
   "source": []
  },
  {
   "cell_type": "code",
   "execution_count": null,
   "metadata": {},
   "outputs": [],
   "source": []
  },
  {
   "cell_type": "code",
   "execution_count": null,
   "metadata": {},
   "outputs": [],
   "source": []
  },
  {
   "cell_type": "code",
   "execution_count": null,
   "metadata": {},
   "outputs": [],
   "source": [
    "\n",
    "\n"
   ]
  },
  {
   "cell_type": "code",
   "execution_count": null,
   "metadata": {},
   "outputs": [],
   "source": []
  },
  {
   "cell_type": "code",
   "execution_count": null,
   "metadata": {},
   "outputs": [],
   "source": []
  },
  {
   "cell_type": "code",
   "execution_count": null,
   "metadata": {},
   "outputs": [],
   "source": []
  }
 ],
 "metadata": {
  "kernelspec": {
   "display_name": "Python 3",
   "language": "python",
   "name": "python3"
  },
  "language_info": {
   "codemirror_mode": {
    "name": "ipython",
    "version": 3
   },
   "file_extension": ".py",
   "mimetype": "text/x-python",
   "name": "python",
   "nbconvert_exporter": "python",
   "pygments_lexer": "ipython3",
   "version": "3.7.2"
  }
 },
 "nbformat": 4,
 "nbformat_minor": 2
}
