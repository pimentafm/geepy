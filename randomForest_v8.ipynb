{
 "cells": [
  {
   "cell_type": "code",
   "execution_count": 1,
   "metadata": {},
   "outputs": [],
   "source": [
    "import ee\n",
    "import geepy\n",
    "import math\n",
    "import sys\n",
    "\n",
    "ee.Initialize()"
   ]
  },
  {
   "cell_type": "code",
   "execution_count": 2,
   "metadata": {},
   "outputs": [],
   "source": [
    "config = geepy.params.configParams('input_classification_v8.json')\n",
    "\n",
    "amostras = ee.FeatureCollection(config.params['samples'])\n",
    "\n",
    "watersheds = ee.FeatureCollection(config.params['studyArea']) \n",
    "\n",
    "pivots = {i: ee.FeatureCollection('users/fernandompimenta/AIBA/centralPivots/pc' + i) for (i) in config.params['years2process']}\n",
    "\n",
    "bands = config.params['bandParams']\n",
    "\n",
    "l5 = ee.ImageCollection(config.params['imgCollection']['lc5']['id']).select(\n",
    "    config.params[\"imgCollection\"][\"lc5\"][\"bands\"],\n",
    "    config.params[\"imgCollection\"][\"lc5\"][\"bandNames\"])\n",
    "\n",
    "l7 = ee.ImageCollection(config.params['imgCollection']['lc7']['id']).select(\n",
    "    config.params[\"imgCollection\"][\"lc7\"][\"bands\"],\n",
    "    config.params[\"imgCollection\"][\"lc7\"][\"bandNames\"])\n",
    "\n",
    "l8 = ee.ImageCollection(config.params['imgCollection']['lc8']['id']).select(\n",
    "    config.params[\"imgCollection\"][\"lc8\"][\"bands\"],\n",
    "    config.params[\"imgCollection\"][\"lc8\"][\"bandNames\"])"
   ]
  },
  {
   "cell_type": "code",
   "execution_count": 3,
   "metadata": {},
   "outputs": [],
   "source": [
    "# Modelo digital de elevação\n",
    "srtm = ee.Image(config.params['srtm'])\n",
    "\n",
    "# Localities distance\n",
    "towns = ee.FeatureCollection(config.params['towns'])\n",
    "rivers = ee.FeatureCollection(config.params['rivers'])\n",
    "\n",
    "dtown = towns.distance(config.params['radist'])\n",
    "driver = rivers.distance(config.params['radist'])\n",
    "\n",
    "slope = ee.Terrain.slope(srtm)\n",
    "aspect = ee.Terrain.aspect(srtm).divide(180).multiply(math.pi).sin()\n",
    "hillshade = ee.Terrain.hillshade(srtm)\n",
    "\n",
    "ntl30m = {}\n",
    "for i in config.params['years2process']:\n",
    "    viirs = ee.Image(config.params['VIIRS'][i]).select('avg_rad').divide(100)\n",
    "    ntl30m[i] = viirs.resample('bilinear').reproject(\n",
    "        crs = viirs.projection().crs(),\n",
    "        scale = 30\n",
    "    )"
   ]
  },
  {
   "cell_type": "code",
   "execution_count": 4,
   "metadata": {},
   "outputs": [],
   "source": [
    "amostragem = geepy.feature.vec2rast(amostras, 'CLASS')\n",
    "\n",
    "n = 2000\n",
    "classBand = 'CLASS'\n",
    "cv = [1,2,3,4,5,6,7]\n",
    "cp = [n for i in range(len(cv))]\n",
    "\n",
    "samples = geepy.image.randomSamples(amostras, amostragem, n, 369, classBand, cv, cp)\n",
    "# 1 Formações florestais --- green\n",
    "# 2 Formações savânicas ---- lightgreen\n",
    "# 3 Agricultura Sequeiro --- magenta\n",
    "# 4 Agricultura Irrigada --- pink\n",
    "# 5 Pastagem --------------- yellow\n",
    "# 6 Corpos d'água ---------- blue\n",
    "# 7 Área urbana ------------ red"
   ]
  },
  {
   "cell_type": "code",
   "execution_count": 5,
   "metadata": {},
   "outputs": [
    {
     "name": "stdout",
     "output_type": "stream",
     "text": [
      "Processing Landsat data: 2016"
     ]
    }
   ],
   "source": [
    "landsat = {}\n",
    "\n",
    "for year in config.params['years2process']:  \n",
    "    start_d = year + config.params['period']['dry']['start']\n",
    "    end_d = year + config.params['period']['dry']['end']\n",
    "    #print(\"Start-End dry season %s %s\" %(start_d, end_d))\n",
    "\n",
    "    if(int(year) < 2002):\n",
    "        filtered = l5.filterMetadata('CLOUD_COVER', 'less_than', config.params['cloudCoverThreshold']).filterDate(start_d, end_d)\n",
    "        satellite = 'l5'\n",
    "    elif(int(year) in (2002, 2011, 2012)):\n",
    "        filtered = l7.filterMetadata('CLOUD_COVER', 'less_than', config.params['cloudCoverThreshold']).filterDate(start_d, end_d)\n",
    "        satellite = 'l7'\n",
    "    elif(int(year) > 2002 and int(year) < 2011):\n",
    "        filtered = l5.filterMetadata('CLOUD_COVER', 'less_than', config.params['cloudCoverThreshold']).filterDate(start_d, end_d)\n",
    "        satellite = 'l5'\n",
    "    else:\n",
    "        filtered = l8.filterMetadata('CLOUD_COVER', 'less_than', config.params['cloudCoverThreshold']).filterDate(start_d, end_d)\n",
    "        satellite = 'l8'\n",
    "\n",
    "    fEdgeRemoved = filtered.map(geepy.image.edgeRemoval).median()\n",
    "    \n",
    "    fEdgeRemoved = geepy.image.img2Band(fEdgeRemoved, ntl30m[year], 'ntl')\n",
    "    \n",
    "    fEdgeRemoved = geepy.image.calcNDBI(fEdgeRemoved)\n",
    "\n",
    "    fEdgeRemoved = geepy.image.img2Band(fEdgeRemoved, srtm, 'srtm')\n",
    "    fEdgeRemoved = geepy.image.img2Band(fEdgeRemoved, slope, 'slope')\n",
    "    fEdgeRemoved = geepy.image.img2Band(fEdgeRemoved, aspect, 'aspect')\n",
    "    fEdgeRemoved = geepy.image.img2Band(fEdgeRemoved, hillshade, 'hillshade')\n",
    "    \n",
    "    fEdgeRemoved = geepy.image.img2Band(fEdgeRemoved, dtown, 'dtown')\n",
    "    fEdgeRemoved = geepy.image.img2Band(fEdgeRemoved, driver, 'driver')\n",
    "    \n",
    "    fEdgeRemoved = geepy.image.calcNDVI(fEdgeRemoved)\n",
    "    fEdgeRemoved = geepy.image.calcEVI(fEdgeRemoved)\n",
    "    fEdgeRemoved = geepy.image.calcSAVI(fEdgeRemoved)\n",
    "    fEdgeRemoved = geepy.image.calcNDWI(fEdgeRemoved)\n",
    "    fEdgeRemoved = geepy.image.calcMNDWI(fEdgeRemoved)\n",
    "    fEdgeRemoved = geepy.image.waterMask(fEdgeRemoved)\n",
    "\n",
    "    fEdgeRemoved = geepy.image.calcFractions(fEdgeRemoved)\n",
    "    fEdgeRemoved = geepy.image.calcNDFI(fEdgeRemoved)\n",
    "    fEdgeRemoved = geepy.image.calcNDFI2(fEdgeRemoved)\n",
    "    fEdgeRemoved = geepy.image.calcNDFI3(fEdgeRemoved)\n",
    "    fEdgeRemoved = geepy.image.calcFCI(fEdgeRemoved)\n",
    "    fEdgeRemoved = geepy.image.calcGVNPV(fEdgeRemoved)\n",
    "    fEdgeRemoved = geepy.image.calcNPVSOIL(fEdgeRemoved)\n",
    "    \n",
    "    fEdgeRemoved = geepy.image.tassCapTransformation(fEdgeRemoved, satellite)\n",
    "\n",
    "    ndvithermal = fEdgeRemoved.select('ndvi').divide(fEdgeRemoved.select('thermal'))\n",
    "    fEdgeRemoved = geepy.image.img2Band(fEdgeRemoved, ndvithermal, 'ndvithermal')\n",
    "    \n",
    "    landsat[year] = fEdgeRemoved.clip(watersheds)\n",
    "    \n",
    "    sys.stdout.write(\"\\rProcessing Landsat data: %s\" % year)\n",
    "    sys.stdout.flush()"
   ]
  },
  {
   "cell_type": "code",
   "execution_count": 6,
   "metadata": {},
   "outputs": [
    {
     "name": "stdout",
     "output_type": "stream",
     "text": [
      "Processing Central Pivots data: 2016"
     ]
    }
   ],
   "source": [
    "for year in config.params['years2process']:\n",
    "    pivots[year] = geepy.feature.vec2rast(pivots[year], 'CLASS').reproject(\n",
    "        crs = landsat[year].select('nir').projection().crs(),\n",
    "        scale = 30\n",
    "    )\n",
    "    sys.stdout.write(\"\\rProcessing Central Pivots data: %s\" % year)\n",
    "    sys.stdout.flush()"
   ]
  },
  {
   "cell_type": "code",
   "execution_count": 7,
   "metadata": {},
   "outputs": [],
   "source": [
    "training = samples.filter(ee.Filter.gt('randCol', 0.5))\n",
    "validation = samples.filter(ee.Filter.lt('randCol', 0.5))\n",
    "\n",
    "trained = geepy.image.trainingSamples(landsat['2016'], training)\n"
   ]
  },
  {
   "cell_type": "code",
   "execution_count": 8,
   "metadata": {},
   "outputs": [],
   "source": [
    "classification = {year: geepy.image.randomForest(landsat[year], trained, bands, ntrees=10) for (year) in config.params['years2process']}"
   ]
  },
  {
   "cell_type": "code",
   "execution_count": 9,
   "metadata": {},
   "outputs": [],
   "source": [
    "classRemapped = {year: classification[year][0].remap([1,2,3,4,5,6,7],[1,2,3,3,5,6,7]).rename('classification'+year) for (year) in config.params['years2process']}"
   ]
  },
  {
   "cell_type": "code",
   "execution_count": 10,
   "metadata": {},
   "outputs": [],
   "source": [
    "finalClassification = {year: classRemapped[year].where(pivots[year].select('CLASS'), 4) for year in config.params['years2process']}"
   ]
  },
  {
   "cell_type": "code",
   "execution_count": 11,
   "metadata": {},
   "outputs": [],
   "source": [
    "acc = geepy.image.accuracyAssessment(classification['2016'][1])"
   ]
  },
  {
   "cell_type": "code",
   "execution_count": 12,
   "metadata": {},
   "outputs": [],
   "source": [
    "tb = geepy.feature.send2drive(acc,'Accuracy assessment', 'tests', 'accuracy_2016', 'GeoJSON')"
   ]
  },
  {
   "cell_type": "code",
   "execution_count": 13,
   "metadata": {},
   "outputs": [],
   "source": [
    "tb.start()"
   ]
  },
  {
   "cell_type": "code",
   "execution_count": null,
   "metadata": {},
   "outputs": [],
   "source": [
    "mapa = geepy.maps.geeMap(watersheds, zoom=8)\n",
    "\n",
    "# Training\n",
    "\n",
    "# 1 Flormações florestais -------------------------------- green\n",
    "# 2 Formações savânicas ---------------------------------- lightgreen\n",
    "# 3 Agricultura de Sequeiro ------------------------------ pink\n",
    "# 4 Agricultura Irrigada --------------------------------- magenta\n",
    "# 5 Pastagem --------------------------------------------- yellow\n",
    "# 6 Corpos d'água ---------------------------------------- blue\n",
    "# 7 Área urbana/Construções rurais ----------------------- red\n",
    "\n",
    "viz_params = {'min':1,'max':7,'palette':'#004000, #34f200, #ffcaff, #ff42f9, #f4f383, #0000ff, #ff0000','format':'png'}\n",
    "\n",
    "l5_viz_params = {'min':0,'max':0.5,'bands':'swir1,nir,red','format':'png'}\n",
    "\n",
    "tasscap_vis = {'min':0,'max':0.2}\n",
    "\n",
    "mapa.addLayer(landsat['2016'], viz_params=l5_viz_params, name='landsat')\n",
    "#mapa.addLayer(landsat['1990'].select('greenness'), viz_params=tasscap_vis, name='greenness')\n",
    "\n",
    "mapa.addLayer(finalClassification['2016'], viz_params=viz_params, name='classificação')\n",
    "\n",
    "mapa.addControls()"
   ]
  },
  {
   "cell_type": "code",
   "execution_count": null,
   "metadata": {},
   "outputs": [],
   "source": [
    "def PCA(img, bandNames, scale = 30):\n",
    "    \"\"\"\n",
    "    Performs Principal Component Analysis.\n",
    "\n",
    "    Args:\n",
    "        img:\n",
    "        bandNames:\n",
    "        scale:\n",
    "    \"\"\"\n",
    "    # Mean center the data to enable a faster covariance reducer and an standard deviation stretch of the principal components.\n",
    "    meanDict = img.reduceRegion(\n",
    "        reducer = ee.Reducer.mean(),\n",
    "        geometry = img.select('blue').geometry(),\n",
    "        scale = scale,\n",
    "        maxPixels = 1e13\n",
    "    )\n",
    "\n",
    "    means = ee.Image.constant(meanDict.values(bandNames))\n",
    "\n",
    "    centered = img.subtract(means)\n",
    "    \n",
    "    arrays = centered.toArray()\n",
    "    \n",
    "    # Covariance of the bands within the region.\n",
    "    covar = arrays.reduceRegion(\n",
    "        reducer = ee.Reducer.centeredCovariance(),\n",
    "        geometry = img.geometry(),\n",
    "        scale = scale,\n",
    "        maxPixels = 1e13\n",
    "    )\n",
    "\n",
    "    # Get the 'array' covariance result and cast to an array.\n",
    "    # Represents the band-to-band covariance within the region.\n",
    "    covarArray = ee.Array(covar.get('array'))\n",
    "\n",
    "    # Perform an eigen analysis and slice apart the values and vectors.\n",
    "    eigens = covarArray.eigen()\n",
    "\n",
    "    # This is a P-length vector of Eigenvalues.\n",
    "    eigenValues = eigens.slice(1, 0, 1)\n",
    "\n",
    "    # This is a PxP matrix with eigenvectors in rows.\n",
    "    eigenVectors = eigens.slice(1, 1)\n",
    "\n",
    "    # Convert the array image to 2D arrays for matrix computations.\n",
    "    arrayImage = arrays.toArray(1)\n",
    "\n",
    "    # Left multiply the image array by the matrix of eigenvectors.\n",
    "    principalComponents = ee.Image(eigenVectors).matrixMultiply(arrayImage)\n",
    "\n",
    "    def getNewBandNames(prefix):\n",
    "        seq = ee.List.sequence(1, len(bandNames))\n",
    "        return map(ee.String(prefix).cat(ee.Number(seq).int()), seq)\n",
    "        \n",
    "    # Turn the square roots of the Eigenvalues into a P-band image.\n",
    "    sdImage = ee.Image(eigenValues.sqrt()).arrayProject([0]).arrayFlatten([getNewBandNames('sd')])\n",
    "    \n",
    "    #Turn the PCs into a P-band image, normalized by SD.\n",
    "    return principalComponents.arrayProject([0]).arrayFlatten([getNewBandNames('pc')]).divide(sdImage)\n",
    "   "
   ]
  },
  {
   "cell_type": "code",
   "execution_count": null,
   "metadata": {},
   "outputs": [],
   "source": [
    "coords = [[[-46.632916356914535, -15.447083782725066],\\\n",
    "   [-43.13041651144095, -15.447083782725066],\\\n",
    "   [-43.13041651144095, -10.181249376641395],\\\n",
    "   [-46.632916356914535, -10.181249376641395],\\\n",
    "   [-46.632916356914535, -15.447083782725066]]]"
   ]
  },
  {
   "cell_type": "code",
   "execution_count": null,
   "metadata": {},
   "outputs": [],
   "source": [
    "# To drive\n",
    "tasks = {year: geepy.image.send2drive(finalClassification[year], coords, 'classification'+year+'v7', 'classification_v7', 30) for year in config.params['years2process']}"
   ]
  },
  {
   "cell_type": "code",
   "execution_count": null,
   "metadata": {},
   "outputs": [],
   "source": [
    "for i in tasks.keys():\n",
    "    [tasks[i].start()]"
   ]
  }
 ],
 "metadata": {
  "kernelspec": {
   "display_name": "Python 3",
   "language": "python",
   "name": "python3"
  },
  "language_info": {
   "codemirror_mode": {
    "name": "ipython",
    "version": 3
   },
   "file_extension": ".py",
   "mimetype": "text/x-python",
   "name": "python",
   "nbconvert_exporter": "python",
   "pygments_lexer": "ipython3",
   "version": "3.6.5"
  }
 },
 "nbformat": 4,
 "nbformat_minor": 2
}
